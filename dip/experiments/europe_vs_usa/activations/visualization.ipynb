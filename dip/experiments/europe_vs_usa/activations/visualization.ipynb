{
 "cells": [
  {
   "cell_type": "code",
   "execution_count": 5,
   "metadata": {},
   "outputs": [],
   "source": [
    "import pandas as pd\n",
    "from pathlib import Path\n",
    "\n",
    "from master_thesis.core.activations.store import collect_acts\n",
    "from master_thesis.core.visualization.visualizer import Visualizer\n",
    "\n",
    "\n",
    "DEVICE = \"cuda\"\n",
    "PROMPT_TYPE = \"few_shot\"\n",
    "POSITIVE_TOKEN = \"true\"\n",
    "NEGATIVE_TOKEN = \"false\"\n",
    "MODEL = \"LLAMA_2_7B_CHAT\"\n",
    "LAYERS_NUMBER = 31\n",
    "\n",
    "DATA_DIR = \"../../../../data\"\n",
    "DATASETS_DIR = f\"{DATA_DIR}/datasets/base_experiments/europe_vs_usa\"\n",
    "ACTIVATIONS_DIR = f\"{DATA_DIR}/activations/{MODEL}/base_experiments/europe_vs_usa\"\n",
    "SAVE_DIR = \".cache/visualizations/\"\n",
    "\n",
    "ACTS_BATCH_SIZE = 25"
   ]
  },
  {
   "cell_type": "markdown",
   "metadata": {},
   "source": [
    "### Train dataset - label"
   ]
  },
  {
   "cell_type": "code",
   "execution_count": 6,
   "metadata": {},
   "outputs": [
    {
     "name": "stderr",
     "output_type": "stream",
     "text": [
      "Collecting activations from layer 1: 100%|██████████| 8/8 [00:03<00:00,  2.05it/s]\n",
      "Collecting activations from layer 2: 100%|██████████| 8/8 [00:00<00:00, 850.36it/s]\n",
      "Collecting activations from layer 3: 100%|██████████| 8/8 [00:00<00:00, 988.46it/s]\n",
      "Collecting activations from layer 4: 100%|██████████| 8/8 [00:00<00:00, 1034.23it/s]\n",
      "Collecting activations from layer 5: 100%|██████████| 8/8 [00:00<00:00, 1013.55it/s]\n",
      "Collecting activations from layer 6: 100%|██████████| 8/8 [00:00<00:00, 1042.45it/s]\n",
      "Collecting activations from layer 7: 100%|██████████| 8/8 [00:00<00:00, 1035.95it/s]\n",
      "Collecting activations from layer 8: 100%|██████████| 8/8 [00:00<00:00, 1018.34it/s]\n",
      "Collecting activations from layer 9: 100%|██████████| 8/8 [00:00<00:00, 987.77it/s]\n",
      "Collecting activations from layer 10: 100%|██████████| 8/8 [00:00<00:00, 987.07it/s]\n",
      "Collecting activations from layer 11: 100%|██████████| 8/8 [00:00<00:00, 980.09it/s]\n",
      "Collecting activations from layer 12: 100%|██████████| 8/8 [00:00<00:00, 941.59it/s]\n",
      "Collecting activations from layer 13: 100%|██████████| 8/8 [00:00<00:00, 997.69it/s]\n",
      "Collecting activations from layer 14: 100%|██████████| 8/8 [00:00<00:00, 1026.66it/s]\n",
      "Collecting activations from layer 15: 100%|██████████| 8/8 [00:00<00:00, 1034.99it/s]\n",
      "Collecting activations from layer 16: 100%|██████████| 8/8 [00:00<00:00, 977.81it/s]\n",
      "Collecting activations from layer 17: 100%|██████████| 8/8 [00:00<00:00, 1001.15it/s]\n",
      "Collecting activations from layer 18: 100%|██████████| 8/8 [00:00<00:00, 967.68it/s]\n",
      "Collecting activations from layer 19: 100%|██████████| 8/8 [00:00<00:00, 1026.38it/s]\n",
      "Collecting activations from layer 20: 100%|██████████| 8/8 [00:00<00:00, 1051.07it/s]\n",
      "Collecting activations from layer 21: 100%|██████████| 8/8 [00:00<00:00, 1032.92it/s]\n",
      "Collecting activations from layer 22: 100%|██████████| 8/8 [00:00<00:00, 999.36it/s]\n",
      "Collecting activations from layer 23: 100%|██████████| 8/8 [00:00<00:00, 1043.10it/s]\n",
      "Collecting activations from layer 24: 100%|██████████| 8/8 [00:00<00:00, 1019.98it/s]\n",
      "Collecting activations from layer 25: 100%|██████████| 8/8 [00:00<00:00, 739.04it/s]\n",
      "Collecting activations from layer 26: 100%|██████████| 8/8 [00:00<00:00, 979.41it/s]\n",
      "Collecting activations from layer 27: 100%|██████████| 8/8 [00:00<00:00, 1012.90it/s]\n",
      "Collecting activations from layer 28: 100%|██████████| 8/8 [00:00<00:00, 1050.78it/s]\n",
      "Collecting activations from layer 29: 100%|██████████| 8/8 [00:00<00:00, 1044.33it/s]\n",
      "Collecting activations from layer 30: 100%|██████████| 8/8 [00:00<00:00, 904.36it/s]\n",
      "Collecting activations from layer 31: 100%|██████████| 8/8 [00:00<00:00, 957.74it/s]\n"
     ]
    }
   ],
   "source": [
    "label_df = pd.read_csv(f\"{DATASETS_DIR}/train/label_aspect.csv\")\n",
    "\n",
    "\n",
    "for layer in range(1, LAYERS_NUMBER + 1):\n",
    "    save_dir = f\"{SAVE_DIR}/train/label_aspect\"\n",
    "    Path(save_dir).mkdir(parents=True, exist_ok=True)\n",
    "\n",
    "    activations = collect_acts(\n",
    "        f\"{ACTIVATIONS_DIR}/train/few_shot_label_aspect\",\n",
    "        layer=layer,\n",
    "        center=True,\n",
    "        scale=True,\n",
    "    )\n",
    "\n",
    "    label_df[\"activation\"] = list(activations)\n",
    "\n",
    "    visualizer = Visualizer(label_df)\n",
    "\n",
    "    fig = visualizer.plot(\n",
    "        dimensions=2,\n",
    "        color_label=\"label\",\n",
    "        layer=layer,\n",
    "    )\n",
    "\n",
    "    fig.write_image(f\"{save_dir}/layer_{layer}.png\")\n",
    "\n",
    "    # fig.show()"
   ]
  },
  {
   "cell_type": "markdown",
   "metadata": {},
   "source": [
    "### Train dataset - confounding"
   ]
  },
  {
   "cell_type": "code",
   "execution_count": null,
   "metadata": {},
   "outputs": [],
   "source": [
    "confounding_df = pd.read_csv(f\"{DATASETS_DIR}/train/confounding_aspect.csv\")\n",
    "\n",
    "\n",
    "for layer in range(1, LAYERS_NUMBER + 1):\n",
    "    save_dir = f\"{SAVE_DIR}/train/confounding_aspect\"\n",
    "    Path(save_dir).mkdir(parents=True, exist_ok=True)\n",
    "\n",
    "    activations = collect_acts(\n",
    "        f\"{ACTIVATIONS_DIR}/train/few_shot_confounding_aspect\",\n",
    "        layer=layer,\n",
    "        center=True,\n",
    "        scale=True,\n",
    "    )\n",
    "\n",
    "    confounding_df[\"activation\"] = list(activations)\n",
    "\n",
    "    visualizer = Visualizer(confounding_df)\n",
    "\n",
    "    fig = visualizer.plot(\n",
    "        dimensions=2,\n",
    "        color_label=\"confounding\",\n",
    "        layer=layer,\n",
    "    )\n",
    "\n",
    "    fig.write_image(f\"{save_dir}/layer_{layer}.png\")\n",
    "\n",
    "    # fig.show()"
   ]
  },
  {
   "cell_type": "markdown",
   "metadata": {},
   "source": [
    "### Test dataset - label"
   ]
  },
  {
   "cell_type": "code",
   "execution_count": 12,
   "metadata": {},
   "outputs": [
    {
     "name": "stderr",
     "output_type": "stream",
     "text": [
      "Collecting activations from layer 1: 100%|██████████| 16/16 [00:00<00:00, 1058.50it/s]\n",
      "Collecting activations from layer 2: 100%|██████████| 16/16 [00:00<00:00, 1134.50it/s]\n",
      "Collecting activations from layer 3: 100%|██████████| 16/16 [00:00<00:00, 1112.71it/s]\n",
      "Collecting activations from layer 4: 100%|██████████| 16/16 [00:00<00:00, 1152.60it/s]\n",
      "Collecting activations from layer 5: 100%|██████████| 16/16 [00:00<00:00, 1119.10it/s]\n",
      "Collecting activations from layer 6: 100%|██████████| 16/16 [00:00<00:00, 960.58it/s]\n",
      "Collecting activations from layer 7: 100%|██████████| 16/16 [00:00<00:00, 1123.93it/s]\n",
      "Collecting activations from layer 8: 100%|██████████| 16/16 [00:00<00:00, 1094.90it/s]\n",
      "Collecting activations from layer 9: 100%|██████████| 16/16 [00:00<00:00, 1007.31it/s]\n",
      "Collecting activations from layer 10: 100%|██████████| 16/16 [00:00<00:00, 1132.72it/s]\n",
      "Collecting activations from layer 11: 100%|██████████| 16/16 [00:00<00:00, 1166.62it/s]\n",
      "Collecting activations from layer 12: 100%|██████████| 16/16 [00:00<00:00, 1014.28it/s]\n",
      "Collecting activations from layer 13: 100%|██████████| 16/16 [00:00<00:00, 1162.02it/s]\n",
      "Collecting activations from layer 14: 100%|██████████| 16/16 [00:00<00:00, 1123.46it/s]\n",
      "Collecting activations from layer 15: 100%|██████████| 16/16 [00:00<00:00, 978.25it/s]\n",
      "Collecting activations from layer 16: 100%|██████████| 16/16 [00:00<00:00, 1156.93it/s]\n",
      "Collecting activations from layer 17: 100%|██████████| 16/16 [00:00<00:00, 1019.41it/s]\n",
      "Collecting activations from layer 18: 100%|██████████| 16/16 [00:00<00:00, 1044.71it/s]\n",
      "Collecting activations from layer 19: 100%|██████████| 16/16 [00:00<00:00, 1122.45it/s]\n",
      "Collecting activations from layer 20: 100%|██████████| 16/16 [00:00<00:00, 1177.49it/s]\n",
      "Collecting activations from layer 21: 100%|██████████| 16/16 [00:00<00:00, 818.66it/s]\n",
      "Collecting activations from layer 22: 100%|██████████| 16/16 [00:00<00:00, 833.51it/s]\n",
      "Collecting activations from layer 23: 100%|██████████| 16/16 [00:00<00:00, 1116.38it/s]\n",
      "Collecting activations from layer 24: 100%|██████████| 16/16 [00:00<00:00, 934.56it/s]\n",
      "Collecting activations from layer 25: 100%|██████████| 16/16 [00:00<00:00, 1116.32it/s]\n",
      "Collecting activations from layer 26: 100%|██████████| 16/16 [00:00<00:00, 1117.55it/s]\n",
      "Collecting activations from layer 27: 100%|██████████| 16/16 [00:00<00:00, 838.83it/s]\n",
      "Collecting activations from layer 28: 100%|██████████| 16/16 [00:00<00:00, 957.49it/s]\n",
      "Collecting activations from layer 29: 100%|██████████| 16/16 [00:00<00:00, 1039.46it/s]\n",
      "Collecting activations from layer 30: 100%|██████████| 16/16 [00:00<00:00, 898.76it/s]\n",
      "Collecting activations from layer 31: 100%|██████████| 16/16 [00:00<00:00, 1165.41it/s]\n"
     ]
    }
   ],
   "source": [
    "test_df = pd.read_csv(f\"{DATASETS_DIR}/test/test.csv\")\n",
    "\n",
    "\n",
    "for layer in range(1, LAYERS_NUMBER + 1):\n",
    "    save_dir = f\"{SAVE_DIR}/test/label_aspect\"\n",
    "    Path(save_dir).mkdir(parents=True, exist_ok=True)\n",
    "\n",
    "    activations = collect_acts(\n",
    "        f\"{ACTIVATIONS_DIR}/test/few_shot_label_aspect\",\n",
    "        layer=layer,\n",
    "        center=True,\n",
    "        scale=True,\n",
    "    )\n",
    "\n",
    "    test_df[\"activation\"] = list(activations)\n",
    "\n",
    "    visualizer = Visualizer(test_df)\n",
    "\n",
    "    fig = visualizer.plot(\n",
    "        dimensions=2,\n",
    "        color_label=\"label\",\n",
    "        layer=layer,\n",
    "    )\n",
    "\n",
    "    fig.write_image(f\"{save_dir}/layer_{layer}.png\")\n",
    "\n",
    "    # fig.show()"
   ]
  },
  {
   "cell_type": "markdown",
   "metadata": {},
   "source": [
    "### Test dataset - confounding"
   ]
  },
  {
   "cell_type": "code",
   "execution_count": 13,
   "metadata": {},
   "outputs": [
    {
     "name": "stderr",
     "output_type": "stream",
     "text": [
      "Collecting activations from layer 1: 100%|██████████| 16/16 [00:00<00:00, 909.26it/s]\n",
      "Collecting activations from layer 2: 100%|██████████| 16/16 [00:00<00:00, 1003.47it/s]\n",
      "Collecting activations from layer 3: 100%|██████████| 16/16 [00:00<00:00, 1141.42it/s]\n",
      "Collecting activations from layer 4: 100%|██████████| 16/16 [00:00<00:00, 1094.96it/s]\n",
      "Collecting activations from layer 5: 100%|██████████| 16/16 [00:00<00:00, 1006.46it/s]\n",
      "Collecting activations from layer 6: 100%|██████████| 16/16 [00:00<00:00, 1047.30it/s]\n",
      "Collecting activations from layer 7: 100%|██████████| 16/16 [00:00<00:00, 1093.80it/s]\n",
      "Collecting activations from layer 8: 100%|██████████| 16/16 [00:00<00:00, 709.01it/s]\n",
      "Collecting activations from layer 9: 100%|██████████| 16/16 [00:00<00:00, 1144.73it/s]\n",
      "Collecting activations from layer 10: 100%|██████████| 16/16 [00:00<00:00, 1080.64it/s]\n",
      "Collecting activations from layer 11: 100%|██████████| 16/16 [00:00<00:00, 1041.06it/s]\n",
      "Collecting activations from layer 12: 100%|██████████| 16/16 [00:00<00:00, 1072.15it/s]\n",
      "Collecting activations from layer 13: 100%|██████████| 16/16 [00:00<00:00, 1047.84it/s]\n",
      "Collecting activations from layer 14: 100%|██████████| 16/16 [00:00<00:00, 1048.26it/s]\n",
      "Collecting activations from layer 15: 100%|██████████| 16/16 [00:00<00:00, 1061.88it/s]\n",
      "Collecting activations from layer 16: 100%|██████████| 16/16 [00:00<00:00, 1095.23it/s]\n",
      "Collecting activations from layer 17: 100%|██████████| 16/16 [00:00<00:00, 927.37it/s]\n",
      "Collecting activations from layer 18: 100%|██████████| 16/16 [00:00<00:00, 1097.39it/s]\n",
      "Collecting activations from layer 19: 100%|██████████| 16/16 [00:00<00:00, 1063.62it/s]\n",
      "Collecting activations from layer 20: 100%|██████████| 16/16 [00:00<00:00, 929.59it/s]\n",
      "Collecting activations from layer 21: 100%|██████████| 16/16 [00:00<00:00, 1091.75it/s]\n",
      "Collecting activations from layer 22: 100%|██████████| 16/16 [00:00<00:00, 1078.19it/s]\n",
      "Collecting activations from layer 23: 100%|██████████| 16/16 [00:00<00:00, 986.78it/s]\n",
      "Collecting activations from layer 24: 100%|██████████| 16/16 [00:00<00:00, 1108.43it/s]\n",
      "Collecting activations from layer 25: 100%|██████████| 16/16 [00:00<00:00, 1090.99it/s]\n",
      "Collecting activations from layer 26: 100%|██████████| 16/16 [00:00<00:00, 955.11it/s]\n",
      "Collecting activations from layer 27: 100%|██████████| 16/16 [00:00<00:00, 1088.97it/s]\n",
      "Collecting activations from layer 28: 100%|██████████| 16/16 [00:00<00:00, 1097.18it/s]\n",
      "Collecting activations from layer 29: 100%|██████████| 16/16 [00:00<00:00, 978.23it/s]\n",
      "Collecting activations from layer 30: 100%|██████████| 16/16 [00:00<00:00, 1088.97it/s]\n",
      "Collecting activations from layer 31: 100%|██████████| 16/16 [00:00<00:00, 1120.18it/s]\n"
     ]
    }
   ],
   "source": [
    "test_df = pd.read_csv(f\"{DATASETS_DIR}/test/test.csv\")\n",
    "\n",
    "\n",
    "for layer in range(1, LAYERS_NUMBER + 1):\n",
    "    save_dir = f\"{SAVE_DIR}/test/confounding_aspect\"\n",
    "    Path(save_dir).mkdir(parents=True, exist_ok=True)\n",
    "\n",
    "    activations = collect_acts(\n",
    "        f\"{ACTIVATIONS_DIR}/test/few_shot_confounding_aspect\",\n",
    "        layer=layer,\n",
    "        center=True,\n",
    "        scale=True,\n",
    "    )\n",
    "\n",
    "    test_df[\"activation\"] = list(activations)\n",
    "\n",
    "    visualizer = Visualizer(test_df)\n",
    "\n",
    "    fig = visualizer.plot(\n",
    "        dimensions=2,\n",
    "        color_label=\"confounding\",\n",
    "        layer=layer,\n",
    "    )\n",
    "\n",
    "    fig.write_image(f\"{save_dir}/layer_{layer}.png\")\n",
    "\n",
    "    # fig.show()"
   ]
  },
  {
   "cell_type": "code",
   "execution_count": null,
   "metadata": {},
   "outputs": [],
   "source": []
  }
 ],
 "metadata": {
  "kernelspec": {
   "display_name": ".venv",
   "language": "python",
   "name": "python3"
  },
  "language_info": {
   "codemirror_mode": {
    "name": "ipython",
    "version": 3
   },
   "file_extension": ".py",
   "mimetype": "text/x-python",
   "name": "python",
   "nbconvert_exporter": "python",
   "pygments_lexer": "ipython3",
   "version": "3.10.13"
  }
 },
 "nbformat": 4,
 "nbformat_minor": 2
}
