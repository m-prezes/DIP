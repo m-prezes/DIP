{
 "cells": [
  {
   "cell_type": "code",
   "execution_count": 1,
   "metadata": {},
   "outputs": [],
   "source": [
    "import pandas as pd\n",
    "\n",
    "from master_thesis.core.utils.reproducibility import seed_everything\n",
    "from master_thesis.core.models.llama import load_model_and_tokenizer\n",
    "from master_thesis.core.utils.prompts import load_prompt\n",
    "from master_thesis.core.methods.probing_with_interventions import (\n",
    "    ProbingWithInterventions,\n",
    ")\n",
    "from master_thesis.core.probes import load_cav\n",
    "from master_thesis.core.utils.reproducibility import save_results\n",
    "\n",
    "\n",
    "DEVICE = \"cuda\"\n",
    "PROMPT_TYPE = \"few_shot\"\n",
    "POSITIVE_TOKEN = \"true\"\n",
    "NEGATIVE_TOKEN = \"false\"\n",
    "MODEL = \"LLAMA_2_7B_CHAT\"\n",
    "\n",
    "LABEL_ASPECT_MODEL = \"MMProbe\"\n",
    "LABEL_ASPECT_LAYER = 12\n",
    "\n",
    "CONFOUNDING_ASPECT_MODEL = \"MMProbe\"\n",
    "CONFOUNDING_ASPECT_LAYER = 12\n",
    "\n",
    "DATA_DIR = \"../../../../data\"\n",
    "DATASETS_DIR = f\"{DATA_DIR}/datasets/base_experiments/europe_vs_usa/test\"\n",
    "CACHE_DIR = f\".cache/results\"\n",
    "CLASS_NAMES = [\"usa\", \"europe\"]\n",
    "LABEL_ASCPECT_NAMES = [\"usa\", \"europe\"]\n",
    "CONFOUNDING_ASPECT_NAMES = [\"nighttime\", \"daytime\"]"
   ]
  },
  {
   "cell_type": "code",
   "execution_count": 2,
   "metadata": {},
   "outputs": [],
   "source": [
    "seed_everything()"
   ]
  },
  {
   "cell_type": "code",
   "execution_count": 3,
   "metadata": {},
   "outputs": [
    {
     "name": "stderr",
     "output_type": "stream",
     "text": [
      "/home/mateusz_politycki/master-thesis-probing/.venv/lib/python3.10/site-packages/transformers/models/auto/tokenization_auto.py:732: FutureWarning: The `use_auth_token` argument is deprecated and will be removed in v5 of Transformers. Please use `token` instead.\n",
      "  warnings.warn(\n",
      "/home/mateusz_politycki/master-thesis-probing/.venv/lib/python3.10/site-packages/transformers/models/auto/auto_factory.py:468: FutureWarning: The `use_auth_token` argument is deprecated and will be removed in v5 of Transformers. Please use `token` instead.\n",
      "  warnings.warn(\n",
      "The `load_in_4bit` and `load_in_8bit` arguments are deprecated and will be removed in the future versions. Please, pass a `BitsAndBytesConfig` object in `quantization_config` argument instead.\n",
      "`low_cpu_mem_usage` was None, now set to True since model is quantized.\n"
     ]
    },
    {
     "data": {
      "application/vnd.jupyter.widget-view+json": {
       "model_id": "df642fc99b184439b40fcf1ede6be531",
       "version_major": 2,
       "version_minor": 0
      },
      "text/plain": [
       "Loading checkpoint shards:   0%|          | 0/2 [00:00<?, ?it/s]"
      ]
     },
     "metadata": {},
     "output_type": "display_data"
    }
   ],
   "source": [
    "model, tokenizer = load_model_and_tokenizer(MODEL)"
   ]
  },
  {
   "cell_type": "code",
   "execution_count": 4,
   "metadata": {},
   "outputs": [],
   "source": [
    "TOKENS = [tokenizer.encode(NEGATIVE_TOKEN)[-1], tokenizer.encode(POSITIVE_TOKEN)[-1]]"
   ]
  },
  {
   "cell_type": "markdown",
   "metadata": {},
   "source": [
    "### Prepare datasets, prompts and cavs"
   ]
  },
  {
   "cell_type": "code",
   "execution_count": 5,
   "metadata": {},
   "outputs": [],
   "source": [
    "test_50_50 = pd.read_csv(f\"{DATASETS_DIR}/test_50_50.csv\")\n",
    "test_95_5 = pd.read_csv(f\"{DATASETS_DIR}/test_95_5.csv\")"
   ]
  },
  {
   "cell_type": "code",
   "execution_count": 6,
   "metadata": {},
   "outputs": [],
   "source": [
    "label_prompt = load_prompt(\n",
    "    DATA_DIR,\n",
    "    dataset_path=\"base_experiments/europe_vs_usa\",\n",
    "    prompt_type=PROMPT_TYPE,\n",
    "    prompt_aspect=\"label_aspect\",\n",
    ")\n",
    "\n",
    "confounding_prompt = load_prompt(\n",
    "    DATA_DIR,\n",
    "    dataset_path=\"base_experiments/europe_vs_usa\",\n",
    "    prompt_type=PROMPT_TYPE,\n",
    "    prompt_aspect=\"confounding_aspect\",\n",
    ")"
   ]
  },
  {
   "cell_type": "code",
   "execution_count": 7,
   "metadata": {},
   "outputs": [],
   "source": [
    "label_cav = load_cav(f\".cache/cavs/{LABEL_ASPECT_MODEL}\", f\"label_{LABEL_ASPECT_LAYER}\")\n",
    "confounding_cav = load_cav(\n",
    "    f\".cache/cavs/{CONFOUNDING_ASPECT_MODEL}\", f\"confounding_{CONFOUNDING_ASPECT_LAYER}\"\n",
    ")"
   ]
  },
  {
   "cell_type": "markdown",
   "metadata": {},
   "source": [
    "### Estimate Probing With Interventions"
   ]
  },
  {
   "cell_type": "markdown",
   "metadata": {},
   "source": [
    "### Label"
   ]
  },
  {
   "cell_type": "markdown",
   "metadata": {},
   "source": [
    "#### Test 50 50"
   ]
  },
  {
   "cell_type": "code",
   "execution_count": 8,
   "metadata": {},
   "outputs": [],
   "source": [
    "seed_everything()\n",
    "\n",
    "probing_with_interventions = ProbingWithInterventions(\n",
    "    cav=label_cav,\n",
    "    model=model,\n",
    "    tokenizer=tokenizer,\n",
    "    tokens=TOKENS,\n",
    "    aspect_prompt=label_prompt,\n",
    "    prompt=label_prompt,\n",
    "    layer=12,\n",
    "    device=DEVICE,\n",
    "    verbose=True,\n",
    ")"
   ]
  },
  {
   "cell_type": "code",
   "execution_count": null,
   "metadata": {},
   "outputs": [],
   "source": [
    "test_50_50_results_label = probing_with_interventions.evaluate(\n",
    "    test_50_50, aspect_label_name=\"label\", original_label_name=\"label\"\n",
    ")"
   ]
  },
  {
   "cell_type": "code",
   "execution_count": 3,
   "metadata": {},
   "outputs": [],
   "source": [
    "save_results(\n",
    "    test_50_50_results_label,\n",
    "    class_names=CLASS_NAMES,\n",
    "    aspect_names=LABEL_ASCPECT_NAMES,\n",
    "    save_path=f\"{CACHE_DIR}/probing_with_interventions/test_50_50/label_aspect_{LABEL_ASPECT_MODEL}_{LABEL_ASPECT_LAYER}.json\",\n",
    ")"
   ]
  },
  {
   "cell_type": "code",
   "execution_count": 4,
   "metadata": {},
   "outputs": [
    {
     "data": {
      "text/plain": [
       "{0: {0: 0.94, 1: -0.94}, 1: {0: -0.95, 1: 0.95}}"
      ]
     },
     "execution_count": 4,
     "metadata": {},
     "output_type": "execute_result"
    }
   ],
   "source": [
    "test_50_50_results_label"
   ]
  },
  {
   "cell_type": "markdown",
   "metadata": {},
   "source": [
    "#### Test 95 5"
   ]
  },
  {
   "cell_type": "code",
   "execution_count": 11,
   "metadata": {},
   "outputs": [],
   "source": [
    "seed_everything()\n",
    "\n",
    "probing_with_interventions = ProbingWithInterventions(\n",
    "    cav=label_cav,\n",
    "    model=model,\n",
    "    tokenizer=tokenizer,\n",
    "    tokens=TOKENS,\n",
    "    aspect_prompt=label_prompt,\n",
    "    prompt=label_prompt,\n",
    "    layer=12,\n",
    "    device=DEVICE,\n",
    "    verbose=True,\n",
    ")"
   ]
  },
  {
   "cell_type": "code",
   "execution_count": null,
   "metadata": {},
   "outputs": [],
   "source": [
    "test_95_5_results_label = probing_with_interventions.evaluate(\n",
    "    test_95_5, aspect_label_name=\"label\", original_label_name=\"label\"\n",
    ")"
   ]
  },
  {
   "cell_type": "code",
   "execution_count": 6,
   "metadata": {},
   "outputs": [],
   "source": [
    "save_results(\n",
    "    test_95_5_results_label,\n",
    "    class_names=CLASS_NAMES,\n",
    "    aspect_names=LABEL_ASCPECT_NAMES,\n",
    "    save_path=f\"{CACHE_DIR}/probing_with_interventions/test_95_5/label_aspect_{LABEL_ASPECT_MODEL}_{LABEL_ASPECT_LAYER}.json\",\n",
    ")"
   ]
  },
  {
   "cell_type": "code",
   "execution_count": 7,
   "metadata": {},
   "outputs": [
    {
     "data": {
      "text/plain": [
       "{0: {0: 0.92, 1: -0.92}, 1: {0: -0.94, 1: 0.94}}"
      ]
     },
     "execution_count": 7,
     "metadata": {},
     "output_type": "execute_result"
    }
   ],
   "source": [
    "test_95_5_results_label"
   ]
  },
  {
   "cell_type": "markdown",
   "metadata": {},
   "source": [
    "### Confounding"
   ]
  },
  {
   "cell_type": "markdown",
   "metadata": {},
   "source": [
    "#### Test 50 50"
   ]
  },
  {
   "cell_type": "code",
   "execution_count": 14,
   "metadata": {},
   "outputs": [],
   "source": [
    "seed_everything()\n",
    "\n",
    "probing_with_interventions = ProbingWithInterventions(\n",
    "    cav=confounding_cav,\n",
    "    model=model,\n",
    "    tokenizer=tokenizer,\n",
    "    tokens=TOKENS,\n",
    "    aspect_prompt=confounding_prompt,\n",
    "    prompt=label_prompt,\n",
    "    layer=12,\n",
    "    device=DEVICE,\n",
    "    verbose=True,\n",
    ")"
   ]
  },
  {
   "cell_type": "code",
   "execution_count": null,
   "metadata": {},
   "outputs": [],
   "source": [
    "test_50_50_results_confounding = probing_with_interventions.evaluate(\n",
    "    test_50_50, aspect_label_name=\"confounding\", original_label_name=\"label\"\n",
    ")"
   ]
  },
  {
   "cell_type": "code",
   "execution_count": 9,
   "metadata": {},
   "outputs": [],
   "source": [
    "save_results(\n",
    "    test_50_50_results_confounding,\n",
    "    class_names=CLASS_NAMES,\n",
    "    aspect_names=CONFOUNDING_ASPECT_NAMES,\n",
    "    save_path=f\"{CACHE_DIR}/probing_with_interventions/test_50_50/confounding_aspect_{CONFOUNDING_ASPECT_MODEL}_{CONFOUNDING_ASPECT_LAYER}.json\",\n",
    ")"
   ]
  },
  {
   "cell_type": "code",
   "execution_count": 11,
   "metadata": {},
   "outputs": [
    {
     "data": {
      "text/plain": [
       "{0: {0: 0.39, 1: -0.39}, 1: {0: -0.05, 1: 0.05}}"
      ]
     },
     "execution_count": 11,
     "metadata": {},
     "output_type": "execute_result"
    }
   ],
   "source": [
    "test_50_50_results_confounding"
   ]
  },
  {
   "cell_type": "markdown",
   "metadata": {},
   "source": [
    "#### Test 95 5"
   ]
  },
  {
   "cell_type": "code",
   "execution_count": 17,
   "metadata": {},
   "outputs": [],
   "source": [
    "seed_everything()\n",
    "\n",
    "probing_with_interventions = ProbingWithInterventions(\n",
    "    cav=confounding_cav,\n",
    "    model=model,\n",
    "    tokenizer=tokenizer,\n",
    "    tokens=TOKENS,\n",
    "    aspect_prompt=confounding_prompt,\n",
    "    prompt=label_prompt,\n",
    "    layer=12,\n",
    "    device=DEVICE,\n",
    "    verbose=True,\n",
    ")"
   ]
  },
  {
   "cell_type": "code",
   "execution_count": null,
   "metadata": {},
   "outputs": [],
   "source": [
    "test_95_5_results_confounding = probing_with_interventions.evaluate(\n",
    "    test_95_5, aspect_label_name=\"confounding\", original_label_name=\"label\"\n",
    ")"
   ]
  },
  {
   "cell_type": "code",
   "execution_count": 13,
   "metadata": {},
   "outputs": [],
   "source": [
    "save_results(\n",
    "    test_95_5_results_confounding,\n",
    "    class_names=CLASS_NAMES,\n",
    "    aspect_names=CONFOUNDING_ASPECT_NAMES,\n",
    "    save_path=f\"{CACHE_DIR}/probing_with_interventions/test_95_5/confounding_aspect_{CONFOUNDING_ASPECT_MODEL}_{CONFOUNDING_ASPECT_LAYER}.json\",\n",
    ")"
   ]
  },
  {
   "cell_type": "code",
   "execution_count": 14,
   "metadata": {},
   "outputs": [
    {
     "data": {
      "text/plain": [
       "{0: {0: 0.71, 1: -0.71}, 1: {0: -0.17, 1: 0.17}}"
      ]
     },
     "execution_count": 14,
     "metadata": {},
     "output_type": "execute_result"
    }
   ],
   "source": [
    "test_95_5_results_confounding"
   ]
  },
  {
   "cell_type": "code",
   "execution_count": null,
   "metadata": {},
   "outputs": [],
   "source": []
  },
  {
   "cell_type": "code",
   "execution_count": null,
   "metadata": {},
   "outputs": [],
   "source": []
  }
 ],
 "metadata": {
  "kernelspec": {
   "display_name": ".venv",
   "language": "python",
   "name": "python3"
  },
  "language_info": {
   "codemirror_mode": {
    "name": "ipython",
    "version": 3
   },
   "file_extension": ".py",
   "mimetype": "text/x-python",
   "name": "python",
   "nbconvert_exporter": "python",
   "pygments_lexer": "ipython3",
   "version": "3.10.13"
  }
 },
 "nbformat": 4,
 "nbformat_minor": 2
}
