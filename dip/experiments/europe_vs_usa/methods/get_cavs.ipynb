{
 "cells": [
  {
   "cell_type": "code",
   "execution_count": 17,
   "metadata": {},
   "outputs": [],
   "source": [
    "import pandas as pd\n",
    "import torch as t\n",
    "\n",
    "from master_thesis.core.utils.reproducibility import seed_everything\n",
    "from master_thesis.core.probes import (\n",
    "    CAV,\n",
    "    MMProbe,\n",
    "    LRProbe,\n",
    "    LDAProbe,\n",
    "    SVMProbe,\n",
    "    save_cav,\n",
    "    load_cav,\n",
    ")\n",
    "from master_thesis.core.activations.store import collect_acts\n",
    "\n",
    "\n",
    "DEVICE = \"cuda\"\n",
    "PROMPT_TYPE = \"few_shot\"\n",
    "POSITIVE_TOKEN = \"true\"\n",
    "NEGATIVE_TOKEN = \"false\"\n",
    "MODEL = \"LLAMA_2_7B_CHAT\"\n",
    "\n",
    "DATA_DIR = \"../../../../data\"\n",
    "DATASETS_DIR = f\"{DATA_DIR}/datasets/base_experiments/europe_vs_usa/train\""
   ]
  },
  {
   "cell_type": "code",
   "execution_count": 18,
   "metadata": {},
   "outputs": [],
   "source": [
    "seed_everything()"
   ]
  },
  {
   "cell_type": "markdown",
   "metadata": {},
   "source": [
    "### Label aspect"
   ]
  },
  {
   "cell_type": "code",
   "execution_count": 19,
   "metadata": {},
   "outputs": [],
   "source": [
    "LABEL_LAYER = 20"
   ]
  },
  {
   "cell_type": "code",
   "execution_count": 20,
   "metadata": {},
   "outputs": [
    {
     "name": "stderr",
     "output_type": "stream",
     "text": [
      "Collecting activations from layer 20: 100%|██████████| 8/8 [00:00<00:00, 973.69it/s]\n"
     ]
    }
   ],
   "source": [
    "label_aspect_df = pd.read_csv(f\"{DATASETS_DIR}/label_aspect.csv\")\n",
    "label_acts = collect_acts(\n",
    "    f\"{DATA_DIR}/activations/{MODEL}/base_experiments/europe_vs_usa/train/few_shot_label_aspect\",\n",
    "    layer=LABEL_LAYER,\n",
    "    center=False,\n",
    "    scale=False,\n",
    ")"
   ]
  },
  {
   "cell_type": "code",
   "execution_count": 21,
   "metadata": {},
   "outputs": [
    {
     "name": "stdout",
     "output_type": "stream",
     "text": [
      "Learned CAV for concept: label\n",
      "\ttensor([0.5338, 0.0940], device='cuda:0')...tensor([-0.4020,  0.3885], device='cuda:0')\n",
      "\tAccuracy: 100.0%\n",
      "\n"
     ]
    }
   ],
   "source": [
    "cav = CAV(MMProbe, DEVICE)\n",
    "cav.fit(label_aspect_df, label_acts, \"label\")\n",
    "\n",
    "save_cav(cav.cav, f\".cache/cavs/{MMProbe.__name__}\", f\"label_{LABEL_LAYER}\")\n",
    "mm_cav = load_cav(f\".cache/cavs/{str(MMProbe.__name__)}\", f\"label_{LABEL_LAYER}\")"
   ]
  },
  {
   "cell_type": "code",
   "execution_count": 22,
   "metadata": {},
   "outputs": [
    {
     "name": "stdout",
     "output_type": "stream",
     "text": [
      "Learned CAV for concept: label\n",
      "\ttensor([0.0271, 0.0098], device='cuda:0')...tensor([-0.0303,  0.0166], device='cuda:0')\n",
      "\tAccuracy: 100.0%\n",
      "\n"
     ]
    }
   ],
   "source": [
    "cav = CAV(LRProbe, DEVICE)\n",
    "cav.fit(label_aspect_df, label_acts, \"label\")\n",
    "\n",
    "save_cav(cav.cav, f\".cache/cavs/{LRProbe.__name__}\", f\"label_{LABEL_LAYER}\")\n",
    "lr_cav = load_cav(f\".cache/cavs/{str(LRProbe.__name__)}\", f\"label_{LABEL_LAYER}\")"
   ]
  },
  {
   "cell_type": "code",
   "execution_count": 23,
   "metadata": {},
   "outputs": [
    {
     "name": "stdout",
     "output_type": "stream",
     "text": [
      "Learned CAV for concept: label\n",
      "\ttensor([ 0.0255, -0.3359])...tensor([-0.0405, -0.1594])\n",
      "\tAccuracy: 100.0%\n",
      "\n"
     ]
    }
   ],
   "source": [
    "cav = CAV(LDAProbe, DEVICE)\n",
    "cav.fit(label_aspect_df, label_acts, \"label\")\n",
    "\n",
    "save_cav(cav.cav, f\".cache/cavs/{LDAProbe.__name__}\", f\"label_{LABEL_LAYER}\")\n",
    "lda_cav = load_cav(f\".cache/cavs/{str(LDAProbe.__name__)}\", f\"label_{LABEL_LAYER}\")"
   ]
  },
  {
   "cell_type": "code",
   "execution_count": 24,
   "metadata": {},
   "outputs": [
    {
     "name": "stdout",
     "output_type": "stream",
     "text": [
      "Learned CAV for concept: label\n",
      "\ttensor([0.0124, 0.0044])...tensor([-0.0099,  0.0150])\n",
      "\tAccuracy: 100.0%\n",
      "\n"
     ]
    }
   ],
   "source": [
    "cav = CAV(SVMProbe, DEVICE)\n",
    "cav.fit(label_aspect_df, label_acts, \"label\")\n",
    "\n",
    "save_cav(cav.cav, f\".cache/cavs/{SVMProbe.__name__}\", f\"label_{LABEL_LAYER}\")\n",
    "svm_cav = load_cav(f\".cache/cavs/{str(SVMProbe.__name__)}\", f\"label_{LABEL_LAYER}\")"
   ]
  },
  {
   "cell_type": "code",
   "execution_count": 25,
   "metadata": {},
   "outputs": [
    {
     "name": "stdout",
     "output_type": "stream",
     "text": [
      "Similarity between MM and LR: tensor(0.5699, device='cuda:0')\n",
      "Similarity between MM and LDA: tensor(0.1916, device='cuda:0')\n",
      "Similarity between LR and LDA: tensor(0.2514, device='cuda:0')\n",
      "Similarity between MM and SVM: tensor(0.9623, device='cuda:0')\n"
     ]
    }
   ],
   "source": [
    "print(\"Similarity between MM and LR:\", t.dot(mm_cav, lr_cav))\n",
    "print(\"Similarity between MM and LDA:\", t.dot(mm_cav, lda_cav))\n",
    "print(\"Similarity between LR and LDA:\", t.dot(lr_cav, lda_cav))\n",
    "print(\"Similarity between MM and SVM:\", t.dot(mm_cav, svm_cav))"
   ]
  },
  {
   "cell_type": "markdown",
   "metadata": {},
   "source": [
    "### Confounding aspect"
   ]
  },
  {
   "cell_type": "code",
   "execution_count": 26,
   "metadata": {},
   "outputs": [],
   "source": [
    "CONFOUNDING_LAYER = 22"
   ]
  },
  {
   "cell_type": "code",
   "execution_count": 27,
   "metadata": {},
   "outputs": [
    {
     "name": "stderr",
     "output_type": "stream",
     "text": [
      "Collecting activations from layer 22: 100%|██████████| 8/8 [00:00<00:00, 977.01it/s]\n"
     ]
    }
   ],
   "source": [
    "confounding_aspect_df = pd.read_csv(f\"{DATASETS_DIR}/confounding_aspect.csv\")\n",
    "confounding_acts = collect_acts(\n",
    "    f\"{DATA_DIR}/activations/{MODEL}/base_experiments/europe_vs_usa/train/few_shot_confounding_aspect\",\n",
    "    layer=CONFOUNDING_LAYER,\n",
    "    center=False,\n",
    "    scale=False,\n",
    ")"
   ]
  },
  {
   "cell_type": "code",
   "execution_count": 28,
   "metadata": {},
   "outputs": [
    {
     "name": "stdout",
     "output_type": "stream",
     "text": [
      "Learned CAV for concept: confounding\n",
      "\ttensor([0.4627, 0.1898], device='cuda:0')...tensor([-0.0686, -0.1850], device='cuda:0')\n",
      "\tAccuracy: 96.5%\n",
      "\n"
     ]
    }
   ],
   "source": [
    "cav = CAV(MMProbe, DEVICE)\n",
    "cav.fit(confounding_aspect_df, confounding_acts, \"confounding\")\n",
    "\n",
    "save_cav(cav.cav, f\".cache/cavs/{MMProbe.__name__}\", f\"confounding_{CONFOUNDING_LAYER}\")\n",
    "mm_cav = load_cav(\n",
    "    f\".cache/cavs/{str(MMProbe.__name__)}\", f\"confounding_{CONFOUNDING_LAYER}\"\n",
    ")"
   ]
  },
  {
   "cell_type": "code",
   "execution_count": 29,
   "metadata": {},
   "outputs": [
    {
     "name": "stdout",
     "output_type": "stream",
     "text": [
      "Learned CAV for concept: confounding\n",
      "\ttensor([0.0224, 0.0201], device='cuda:0')...tensor([-0.0557, -0.0210], device='cuda:0')\n",
      "\tAccuracy: 100.0%\n",
      "\n"
     ]
    }
   ],
   "source": [
    "cav = CAV(LRProbe, DEVICE)\n",
    "cav.fit(confounding_aspect_df, confounding_acts, \"confounding\")\n",
    "\n",
    "save_cav(cav.cav, f\".cache/cavs/{LRProbe.__name__}\", f\"confounding_{CONFOUNDING_LAYER}\")\n",
    "lr_cav = load_cav(\n",
    "    f\".cache/cavs/{str(LRProbe.__name__)}\", f\"confounding_{CONFOUNDING_LAYER}\"\n",
    ")"
   ]
  },
  {
   "cell_type": "code",
   "execution_count": 30,
   "metadata": {},
   "outputs": [
    {
     "name": "stdout",
     "output_type": "stream",
     "text": [
      "Learned CAV for concept: confounding\n",
      "\ttensor([-0.2001,  0.2956])...tensor([-0.3123,  0.2999])\n",
      "\tAccuracy: 99.0%\n",
      "\n"
     ]
    }
   ],
   "source": [
    "cav = CAV(LDAProbe, DEVICE)\n",
    "cav.fit(confounding_aspect_df, confounding_acts, \"confounding\")\n",
    "\n",
    "save_cav(\n",
    "    cav.cav, f\".cache/cavs/{LDAProbe.__name__}\", f\"confounding_{CONFOUNDING_LAYER}\"\n",
    ")\n",
    "lda_cav = load_cav(\n",
    "    f\".cache/cavs/{str(LDAProbe.__name__)}\", f\"confounding_{CONFOUNDING_LAYER}\"\n",
    ")"
   ]
  },
  {
   "cell_type": "code",
   "execution_count": 31,
   "metadata": {},
   "outputs": [
    {
     "name": "stdout",
     "output_type": "stream",
     "text": [
      "Learned CAV for concept: confounding\n",
      "\ttensor([ 0.0200, -0.0057])...tensor([-0.0124, -0.0097])\n",
      "\tAccuracy: 99.0%\n",
      "\n"
     ]
    }
   ],
   "source": [
    "cav = CAV(SVMProbe, DEVICE)\n",
    "cav.fit(confounding_aspect_df, confounding_acts, \"confounding\")\n",
    "\n",
    "save_cav(\n",
    "    cav.cav, f\".cache/cavs/{SVMProbe.__name__}\", f\"confounding_{CONFOUNDING_LAYER}\"\n",
    ")\n",
    "svm_cav = load_cav(\n",
    "    f\".cache/cavs/{str(SVMProbe.__name__)}\", f\"confounding_{CONFOUNDING_LAYER}\"\n",
    ")"
   ]
  },
  {
   "cell_type": "code",
   "execution_count": 32,
   "metadata": {},
   "outputs": [
    {
     "name": "stdout",
     "output_type": "stream",
     "text": [
      "Similarity between MM and LR: tensor(0.2291, device='cuda:0')\n",
      "Similarity between MM and LDA: tensor(0.1030, device='cuda:0')\n",
      "Similarity between LR and LDA: tensor(0.3205, device='cuda:0')\n",
      "Similarity between MM and SVM: tensor(0.4831, device='cuda:0')\n"
     ]
    }
   ],
   "source": [
    "print(\"Similarity between MM and LR:\", t.dot(mm_cav, lr_cav))\n",
    "print(\"Similarity between MM and LDA:\", t.dot(mm_cav, lda_cav))\n",
    "print(\"Similarity between LR and LDA:\", t.dot(lr_cav, lda_cav))\n",
    "print(\"Similarity between MM and SVM:\", t.dot(mm_cav, svm_cav))"
   ]
  },
  {
   "cell_type": "code",
   "execution_count": null,
   "metadata": {},
   "outputs": [],
   "source": []
  },
  {
   "cell_type": "code",
   "execution_count": null,
   "metadata": {},
   "outputs": [],
   "source": []
  }
 ],
 "metadata": {
  "kernelspec": {
   "display_name": ".venv",
   "language": "python",
   "name": "python3"
  },
  "language_info": {
   "codemirror_mode": {
    "name": "ipython",
    "version": 3
   },
   "file_extension": ".py",
   "mimetype": "text/x-python",
   "name": "python",
   "nbconvert_exporter": "python",
   "pygments_lexer": "ipython3",
   "version": "3.10.13"
  }
 },
 "nbformat": 4,
 "nbformat_minor": 2
}
