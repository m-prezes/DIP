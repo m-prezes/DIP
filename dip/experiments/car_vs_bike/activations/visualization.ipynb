{
 "cells": [
  {
   "cell_type": "code",
   "execution_count": 1,
   "metadata": {},
   "outputs": [],
   "source": [
    "import pandas as pd\n",
    "from pathlib import Path\n",
    "\n",
    "from master_thesis.core.activations.store import collect_acts\n",
    "from master_thesis.core.visualization.visualizer import Visualizer\n",
    "\n",
    "\n",
    "DEVICE = \"cuda\"\n",
    "PROMPT_TYPE = \"few_shot\"\n",
    "POSITIVE_TOKEN = \"true\"\n",
    "NEGATIVE_TOKEN = \"false\"\n",
    "MODEL = \"LLAMA_2_7B_CHAT\"\n",
    "LAYERS_NUMBER = 31\n",
    "\n",
    "DATA_DIR = \"../../../../data\"\n",
    "DATASETS_DIR = f\"{DATA_DIR}/datasets/base_experiments/car_vs_bike\"\n",
    "ACTIVATIONS_DIR = f\"{DATA_DIR}/activations/{MODEL}/base_experiments/car_vs_bike\"\n",
    "SAVE_DIR = \".cache/visualizations/\"\n",
    "\n",
    "ACTS_BATCH_SIZE = 25"
   ]
  },
  {
   "cell_type": "markdown",
   "metadata": {},
   "source": [
    "### Train dataset - label"
   ]
  },
  {
   "cell_type": "code",
   "execution_count": 2,
   "metadata": {},
   "outputs": [
    {
     "name": "stderr",
     "output_type": "stream",
     "text": [
      "Collecting activations from layer 1: 100%|██████████| 8/8 [00:03<00:00,  2.66it/s]\n",
      "Collecting activations from layer 2: 100%|██████████| 8/8 [00:00<00:00, 975.56it/s]\n",
      "Collecting activations from layer 3: 100%|██████████| 8/8 [00:00<00:00, 1062.86it/s]\n",
      "Collecting activations from layer 4: 100%|██████████| 8/8 [00:00<00:00, 1118.56it/s]\n",
      "Collecting activations from layer 5: 100%|██████████| 8/8 [00:00<00:00, 1115.21it/s]\n",
      "Collecting activations from layer 6: 100%|██████████| 8/8 [00:00<00:00, 1109.64it/s]\n",
      "Collecting activations from layer 7: 100%|██████████| 8/8 [00:00<00:00, 1095.69it/s]\n",
      "Collecting activations from layer 8: 100%|██████████| 8/8 [00:00<00:00, 1134.98it/s]\n",
      "Collecting activations from layer 9: 100%|██████████| 8/8 [00:00<00:00, 1105.62it/s]\n",
      "Collecting activations from layer 10: 100%|██████████| 8/8 [00:00<00:00, 1110.08it/s]\n",
      "Collecting activations from layer 11: 100%|██████████| 8/8 [00:00<00:00, 1129.89it/s]\n",
      "Collecting activations from layer 12: 100%|██████████| 8/8 [00:00<00:00, 914.51it/s]\n",
      "Collecting activations from layer 13: 100%|██████████| 8/8 [00:00<00:00, 1076.53it/s]\n",
      "Collecting activations from layer 14: 100%|██████████| 8/8 [00:00<00:00, 1077.57it/s]\n",
      "Collecting activations from layer 15: 100%|██████████| 8/8 [00:00<00:00, 1020.29it/s]\n",
      "Collecting activations from layer 16: 100%|██████████| 8/8 [00:00<00:00, 1136.13it/s]\n",
      "Collecting activations from layer 17: 100%|██████████| 8/8 [00:00<00:00, 1083.62it/s]\n",
      "Collecting activations from layer 18: 100%|██████████| 8/8 [00:00<00:00, 1072.06it/s]\n",
      "Collecting activations from layer 19: 100%|██████████| 8/8 [00:00<00:00, 1075.08it/s]\n",
      "Collecting activations from layer 20: 100%|██████████| 8/8 [00:00<00:00, 1098.27it/s]\n",
      "Collecting activations from layer 21: 100%|██████████| 8/8 [00:00<00:00, 1063.97it/s]\n",
      "Collecting activations from layer 22: 100%|██████████| 8/8 [00:00<00:00, 1132.30it/s]\n",
      "Collecting activations from layer 23: 100%|██████████| 8/8 [00:00<00:00, 1098.96it/s]\n",
      "Collecting activations from layer 24: 100%|██████████| 8/8 [00:00<00:00, 1149.12it/s]\n",
      "Collecting activations from layer 25: 100%|██████████| 8/8 [00:00<00:00, 1121.40it/s]\n",
      "Collecting activations from layer 26: 100%|██████████| 8/8 [00:00<00:00, 1153.23it/s]\n",
      "Collecting activations from layer 27: 100%|██████████| 8/8 [00:00<00:00, 937.25it/s]\n",
      "Collecting activations from layer 28: 100%|██████████| 8/8 [00:00<00:00, 1099.32it/s]\n",
      "Collecting activations from layer 29: 100%|██████████| 8/8 [00:00<00:00, 1016.06it/s]\n",
      "Collecting activations from layer 30: 100%|██████████| 8/8 [00:00<00:00, 1126.40it/s]\n",
      "Collecting activations from layer 31: 100%|██████████| 8/8 [00:00<00:00, 1103.76it/s]\n"
     ]
    }
   ],
   "source": [
    "label_df = pd.read_csv(f\"{DATASETS_DIR}/train/label_aspect.csv\")\n",
    "\n",
    "\n",
    "for layer in range(1, LAYERS_NUMBER + 1):\n",
    "    save_dir = f\"{SAVE_DIR}/train/label_aspect\"\n",
    "    Path(save_dir).mkdir(parents=True, exist_ok=True)\n",
    "\n",
    "    activations = collect_acts(\n",
    "        f\"{ACTIVATIONS_DIR}/train/few_shot_label_aspect\",\n",
    "        layer=layer,\n",
    "        center=True,\n",
    "        scale=True,\n",
    "    )\n",
    "\n",
    "    label_df[\"activation\"] = list(activations)\n",
    "\n",
    "    visualizer = Visualizer(label_df)\n",
    "\n",
    "    fig = visualizer.plot(\n",
    "        dimensions=2,\n",
    "        color_label=\"label\",\n",
    "        layer=layer,\n",
    "    )\n",
    "\n",
    "    fig.write_image(f\"{save_dir}/layer_{layer}.png\")\n",
    "\n",
    "    # fig.show()"
   ]
  },
  {
   "cell_type": "markdown",
   "metadata": {},
   "source": [
    "### Train dataset - confounding"
   ]
  },
  {
   "cell_type": "code",
   "execution_count": 3,
   "metadata": {},
   "outputs": [
    {
     "name": "stderr",
     "output_type": "stream",
     "text": [
      "Collecting activations from layer 1: 100%|██████████| 8/8 [00:00<00:00, 1073.81it/s]\n",
      "Collecting activations from layer 2: 100%|██████████| 8/8 [00:00<00:00, 1123.09it/s]\n",
      "Collecting activations from layer 3: 100%|██████████| 8/8 [00:00<00:00, 1107.37it/s]\n",
      "Collecting activations from layer 4: 100%|██████████| 8/8 [00:00<00:00, 1129.70it/s]\n",
      "Collecting activations from layer 5: 100%|██████████| 8/8 [00:00<00:00, 933.70it/s]\n",
      "Collecting activations from layer 6: 100%|██████████| 8/8 [00:00<00:00, 884.76it/s]\n",
      "Collecting activations from layer 7: 100%|██████████| 8/8 [00:00<00:00, 1121.02it/s]\n",
      "Collecting activations from layer 8: 100%|██████████| 8/8 [00:00<00:00, 1052.32it/s]\n",
      "Collecting activations from layer 9: 100%|██████████| 8/8 [00:00<00:00, 1096.55it/s]\n",
      "Collecting activations from layer 10: 100%|██████████| 8/8 [00:00<00:00, 1127.31it/s]\n",
      "Collecting activations from layer 11: 100%|██████████| 8/8 [00:00<00:00, 920.94it/s]\n",
      "Collecting activations from layer 12: 100%|██████████| 8/8 [00:00<00:00, 1081.53it/s]\n",
      "Collecting activations from layer 13: 100%|██████████| 8/8 [00:00<00:00, 1121.96it/s]\n",
      "Collecting activations from layer 14: 100%|██████████| 8/8 [00:00<00:00, 963.68it/s]\n",
      "Collecting activations from layer 15: 100%|██████████| 8/8 [00:00<00:00, 989.89it/s]\n",
      "Collecting activations from layer 16: 100%|██████████| 8/8 [00:00<00:00, 934.48it/s]\n",
      "Collecting activations from layer 17: 100%|██████████| 8/8 [00:00<00:00, 1103.29it/s]\n",
      "Collecting activations from layer 18: 100%|██████████| 8/8 [00:00<00:00, 1039.51it/s]\n",
      "Collecting activations from layer 19: 100%|██████████| 8/8 [00:00<00:00, 1115.43it/s]\n",
      "Collecting activations from layer 20: 100%|██████████| 8/8 [00:00<00:00, 1129.51it/s]\n",
      "Collecting activations from layer 21: 100%|██████████| 8/8 [00:00<00:00, 1001.83it/s]\n",
      "Collecting activations from layer 22: 100%|██████████| 8/8 [00:00<00:00, 1087.56it/s]\n",
      "Collecting activations from layer 23: 100%|██████████| 8/8 [00:00<00:00, 1063.30it/s]\n",
      "Collecting activations from layer 24: 100%|██████████| 8/8 [00:00<00:00, 1193.73it/s]\n",
      "Collecting activations from layer 25: 100%|██████████| 8/8 [00:00<00:00, 1142.78it/s]\n",
      "Collecting activations from layer 26: 100%|██████████| 8/8 [00:00<00:00, 853.82it/s]\n",
      "Collecting activations from layer 27: 100%|██████████| 8/8 [00:00<00:00, 1150.78it/s]\n",
      "Collecting activations from layer 28: 100%|██████████| 8/8 [00:00<00:00, 1166.79it/s]\n",
      "Collecting activations from layer 29: 100%|██████████| 8/8 [00:00<00:00, 1094.01it/s]\n",
      "Collecting activations from layer 30: 100%|██████████| 8/8 [00:00<00:00, 1220.03it/s]\n",
      "Collecting activations from layer 31: 100%|██████████| 8/8 [00:00<00:00, 933.86it/s]\n"
     ]
    }
   ],
   "source": [
    "confounding_df = pd.read_csv(f\"{DATASETS_DIR}/train/confounding_aspect.csv\")\n",
    "\n",
    "\n",
    "for layer in range(1, LAYERS_NUMBER + 1):\n",
    "    save_dir = f\"{SAVE_DIR}/train/confounding_aspect\"\n",
    "    Path(save_dir).mkdir(parents=True, exist_ok=True)\n",
    "\n",
    "    activations = collect_acts(\n",
    "        f\"{ACTIVATIONS_DIR}/train/few_shot_confounding_aspect\",\n",
    "        layer=layer,\n",
    "        center=True,\n",
    "        scale=True,\n",
    "    )\n",
    "\n",
    "    confounding_df[\"activation\"] = list(activations)\n",
    "\n",
    "    visualizer = Visualizer(confounding_df)\n",
    "\n",
    "    fig = visualizer.plot(\n",
    "        dimensions=2,\n",
    "        color_label=\"confounding\",\n",
    "        layer=layer,\n",
    "    )\n",
    "\n",
    "    fig.write_image(f\"{save_dir}/layer_{layer}.png\")\n",
    "\n",
    "    # fig.show()"
   ]
  },
  {
   "cell_type": "markdown",
   "metadata": {},
   "source": [
    "### Test dataset - label"
   ]
  },
  {
   "cell_type": "code",
   "execution_count": 5,
   "metadata": {},
   "outputs": [
    {
     "name": "stderr",
     "output_type": "stream",
     "text": [
      "Collecting activations from layer 1: 100%|██████████| 16/16 [00:00<00:00, 1064.26it/s]\n",
      "Collecting activations from layer 2: 100%|██████████| 16/16 [00:00<00:00, 1188.76it/s]\n",
      "Collecting activations from layer 3: 100%|██████████| 16/16 [00:00<00:00, 1143.13it/s]\n",
      "Collecting activations from layer 4: 100%|██████████| 16/16 [00:00<00:00, 1203.96it/s]\n",
      "Collecting activations from layer 5: 100%|██████████| 16/16 [00:00<00:00, 1156.07it/s]\n",
      "Collecting activations from layer 6: 100%|██████████| 16/16 [00:00<00:00, 1091.49it/s]\n",
      "Collecting activations from layer 7: 100%|██████████| 16/16 [00:00<00:00, 1220.61it/s]\n",
      "Collecting activations from layer 8: 100%|██████████| 16/16 [00:00<00:00, 1174.88it/s]\n",
      "Collecting activations from layer 9: 100%|██████████| 16/16 [00:00<00:00, 830.50it/s]\n",
      "Collecting activations from layer 10: 100%|██████████| 16/16 [00:00<00:00, 893.14it/s]\n",
      "Collecting activations from layer 11: 100%|██████████| 16/16 [00:00<00:00, 715.01it/s]\n",
      "Collecting activations from layer 12: 100%|██████████| 16/16 [00:00<00:00, 695.36it/s]\n",
      "Collecting activations from layer 13: 100%|██████████| 16/16 [00:00<00:00, 564.77it/s]\n",
      "Collecting activations from layer 14: 100%|██████████| 16/16 [00:00<00:00, 832.66it/s]\n",
      "Collecting activations from layer 15: 100%|██████████| 16/16 [00:00<00:00, 951.64it/s]\n",
      "Collecting activations from layer 16: 100%|██████████| 16/16 [00:00<00:00, 951.12it/s]\n",
      "Collecting activations from layer 17: 100%|██████████| 16/16 [00:00<00:00, 1149.77it/s]\n",
      "Collecting activations from layer 18: 100%|██████████| 16/16 [00:00<00:00, 1157.57it/s]\n",
      "Collecting activations from layer 19: 100%|██████████| 16/16 [00:00<00:00, 1101.05it/s]\n",
      "Collecting activations from layer 20: 100%|██████████| 16/16 [00:00<00:00, 1217.79it/s]\n",
      "Collecting activations from layer 21: 100%|██████████| 16/16 [00:00<00:00, 1017.14it/s]\n",
      "Collecting activations from layer 22: 100%|██████████| 16/16 [00:00<00:00, 1128.68it/s]\n",
      "Collecting activations from layer 23: 100%|██████████| 16/16 [00:00<00:00, 1179.58it/s]\n",
      "Collecting activations from layer 24: 100%|██████████| 16/16 [00:00<00:00, 1142.10it/s]\n",
      "Collecting activations from layer 25: 100%|██████████| 16/16 [00:00<00:00, 992.16it/s]\n",
      "Collecting activations from layer 26: 100%|██████████| 16/16 [00:00<00:00, 881.42it/s]\n",
      "Collecting activations from layer 27: 100%|██████████| 16/16 [00:00<00:00, 1129.63it/s]\n",
      "Collecting activations from layer 28: 100%|██████████| 16/16 [00:00<00:00, 960.30it/s]\n",
      "Collecting activations from layer 29: 100%|██████████| 16/16 [00:00<00:00, 1164.01it/s]\n",
      "Collecting activations from layer 30: 100%|██████████| 16/16 [00:00<00:00, 1173.52it/s]\n",
      "Collecting activations from layer 31: 100%|██████████| 16/16 [00:00<00:00, 969.29it/s]\n"
     ]
    }
   ],
   "source": [
    "test_df = pd.read_csv(f\"{DATASETS_DIR}/test/test.csv\")\n",
    "\n",
    "\n",
    "for layer in range(1, LAYERS_NUMBER + 1):\n",
    "    save_dir = f\"{SAVE_DIR}/test/label_aspect\"\n",
    "    Path(save_dir).mkdir(parents=True, exist_ok=True)\n",
    "\n",
    "    activations = collect_acts(\n",
    "        f\"{ACTIVATIONS_DIR}/test/few_shot_label_aspect\",\n",
    "        layer=layer,\n",
    "        center=True,\n",
    "        scale=True,\n",
    "    )\n",
    "\n",
    "    test_df[\"activation\"] = list(activations)\n",
    "\n",
    "    visualizer = Visualizer(test_df)\n",
    "\n",
    "    fig = visualizer.plot(\n",
    "        dimensions=2,\n",
    "        color_label=\"label\",\n",
    "        layer=layer,\n",
    "    )\n",
    "\n",
    "    fig.write_image(f\"{save_dir}/layer_{layer}.png\")\n",
    "\n",
    "    # fig.show()"
   ]
  },
  {
   "cell_type": "markdown",
   "metadata": {},
   "source": [
    "### Test dataset - confounding"
   ]
  },
  {
   "cell_type": "code",
   "execution_count": 6,
   "metadata": {},
   "outputs": [
    {
     "name": "stderr",
     "output_type": "stream",
     "text": [
      "Collecting activations from layer 1: 100%|██████████| 16/16 [00:00<00:00, 1142.82it/s]\n",
      "Collecting activations from layer 2: 100%|██████████| 16/16 [00:00<00:00, 920.51it/s]\n",
      "Collecting activations from layer 3: 100%|██████████| 16/16 [00:00<00:00, 1003.95it/s]\n",
      "Collecting activations from layer 4: 100%|██████████| 16/16 [00:00<00:00, 1181.74it/s]\n",
      "Collecting activations from layer 5: 100%|██████████| 16/16 [00:00<00:00, 893.82it/s]\n",
      "Collecting activations from layer 6: 100%|██████████| 16/16 [00:00<00:00, 1069.48it/s]\n",
      "Collecting activations from layer 7: 100%|██████████| 16/16 [00:00<00:00, 1128.96it/s]\n",
      "Collecting activations from layer 8: 100%|██████████| 16/16 [00:00<00:00, 1160.73it/s]\n",
      "Collecting activations from layer 9: 100%|██████████| 16/16 [00:00<00:00, 1105.33it/s]\n",
      "Collecting activations from layer 10: 100%|██████████| 16/16 [00:00<00:00, 1132.51it/s]\n",
      "Collecting activations from layer 11: 100%|██████████| 16/16 [00:00<00:00, 1001.97it/s]\n",
      "Collecting activations from layer 12: 100%|██████████| 16/16 [00:00<00:00, 937.65it/s]\n",
      "Collecting activations from layer 13: 100%|██████████| 16/16 [00:00<00:00, 1190.74it/s]\n",
      "Collecting activations from layer 14: 100%|██████████| 16/16 [00:00<00:00, 941.91it/s]\n",
      "Collecting activations from layer 15: 100%|██████████| 16/16 [00:00<00:00, 515.94it/s]\n",
      "Collecting activations from layer 16: 100%|██████████| 16/16 [00:00<00:00, 1134.23it/s]\n",
      "Collecting activations from layer 17: 100%|██████████| 16/16 [00:00<00:00, 1133.56it/s]\n",
      "Collecting activations from layer 18: 100%|██████████| 16/16 [00:00<00:00, 1037.84it/s]\n",
      "Collecting activations from layer 19: 100%|██████████| 16/16 [00:00<00:00, 973.02it/s]\n",
      "Collecting activations from layer 20: 100%|██████████| 16/16 [00:00<00:00, 1197.47it/s]\n",
      "Collecting activations from layer 21: 100%|██████████| 16/16 [00:00<00:00, 1007.16it/s]\n",
      "Collecting activations from layer 22: 100%|██████████| 16/16 [00:00<00:00, 1144.73it/s]\n",
      "Collecting activations from layer 23: 100%|██████████| 16/16 [00:00<00:00, 1229.12it/s]\n",
      "Collecting activations from layer 24: 100%|██████████| 16/16 [00:00<00:00, 1131.78it/s]\n",
      "Collecting activations from layer 25: 100%|██████████| 16/16 [00:00<00:00, 1142.65it/s]\n",
      "Collecting activations from layer 26: 100%|██████████| 16/16 [00:00<00:00, 1114.91it/s]\n",
      "Collecting activations from layer 27: 100%|██████████| 16/16 [00:00<00:00, 900.84it/s]\n",
      "Collecting activations from layer 28: 100%|██████████| 16/16 [00:00<00:00, 1141.09it/s]\n",
      "Collecting activations from layer 29: 100%|██████████| 16/16 [00:00<00:00, 1156.31it/s]\n",
      "Collecting activations from layer 30: 100%|██████████| 16/16 [00:00<00:00, 958.90it/s]\n",
      "Collecting activations from layer 31: 100%|██████████| 16/16 [00:00<00:00, 1178.67it/s]\n"
     ]
    }
   ],
   "source": [
    "test_df = pd.read_csv(f\"{DATASETS_DIR}/test/test.csv\")\n",
    "\n",
    "\n",
    "for layer in range(1, LAYERS_NUMBER + 1):\n",
    "    save_dir = f\"{SAVE_DIR}/test/confounding_aspect\"\n",
    "    Path(save_dir).mkdir(parents=True, exist_ok=True)\n",
    "\n",
    "    activations = collect_acts(\n",
    "        f\"{ACTIVATIONS_DIR}/test/few_shot_confounding_aspect\",\n",
    "        layer=layer,\n",
    "        center=True,\n",
    "        scale=True,\n",
    "    )\n",
    "\n",
    "    test_df[\"activation\"] = list(activations)\n",
    "\n",
    "    visualizer = Visualizer(test_df)\n",
    "\n",
    "    fig = visualizer.plot(\n",
    "        dimensions=2,\n",
    "        color_label=\"confounding\",\n",
    "        layer=layer,\n",
    "    )\n",
    "\n",
    "    fig.write_image(f\"{save_dir}/layer_{layer}.png\")\n",
    "\n",
    "    # fig.show()"
   ]
  },
  {
   "cell_type": "code",
   "execution_count": null,
   "metadata": {},
   "outputs": [],
   "source": []
  },
  {
   "cell_type": "code",
   "execution_count": null,
   "metadata": {},
   "outputs": [],
   "source": []
  }
 ],
 "metadata": {
  "kernelspec": {
   "display_name": ".venv",
   "language": "python",
   "name": "python3"
  },
  "language_info": {
   "codemirror_mode": {
    "name": "ipython",
    "version": 3
   },
   "file_extension": ".py",
   "mimetype": "text/x-python",
   "name": "python",
   "nbconvert_exporter": "python",
   "pygments_lexer": "ipython3",
   "version": "3.10.13"
  }
 },
 "nbformat": 4,
 "nbformat_minor": 2
}
