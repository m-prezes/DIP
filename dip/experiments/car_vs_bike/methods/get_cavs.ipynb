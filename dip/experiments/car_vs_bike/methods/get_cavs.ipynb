{
 "cells": [
  {
   "cell_type": "code",
   "execution_count": 1,
   "metadata": {},
   "outputs": [],
   "source": [
    "import pandas as pd\n",
    "import torch as t\n",
    "\n",
    "from master_thesis.core.utils.reproducibility import seed_everything\n",
    "from master_thesis.core.probes import (\n",
    "    CAV,\n",
    "    MMProbe,\n",
    "    LRProbe,\n",
    "    LDAProbe,\n",
    "    SVMProbe,\n",
    "    save_cav,\n",
    "    load_cav,\n",
    ")\n",
    "from master_thesis.core.activations.store import collect_acts\n",
    "\n",
    "\n",
    "DEVICE = \"cuda\"\n",
    "PROMPT_TYPE = \"few_shot\"\n",
    "POSITIVE_TOKEN = \"true\"\n",
    "NEGATIVE_TOKEN = \"false\"\n",
    "MODEL = \"LLAMA_2_7B_CHAT\"\n",
    "\n",
    "DATA_DIR = \"../../../../data\"\n",
    "DATASETS_DIR = f\"{DATA_DIR}/datasets/base_experiments/car_vs_bike/train\""
   ]
  },
  {
   "cell_type": "code",
   "execution_count": 2,
   "metadata": {},
   "outputs": [],
   "source": [
    "seed_everything()"
   ]
  },
  {
   "cell_type": "markdown",
   "metadata": {},
   "source": [
    "### Label aspect"
   ]
  },
  {
   "cell_type": "code",
   "execution_count": 3,
   "metadata": {},
   "outputs": [],
   "source": [
    "LABEL_LAYER = 24"
   ]
  },
  {
   "cell_type": "code",
   "execution_count": 4,
   "metadata": {},
   "outputs": [
    {
     "name": "stderr",
     "output_type": "stream",
     "text": [
      "Collecting activations from layer 24: 100%|██████████| 8/8 [00:02<00:00,  3.02it/s]\n"
     ]
    }
   ],
   "source": [
    "label_aspect_df = pd.read_csv(f\"{DATASETS_DIR}/label_aspect.csv\")\n",
    "label_acts = collect_acts(\n",
    "    f\"{DATA_DIR}/activations/{MODEL}/base_experiments/car_vs_bike/train/few_shot_label_aspect\",\n",
    "    layer=LABEL_LAYER,\n",
    "    center=False,\n",
    "    scale=False,\n",
    ")"
   ]
  },
  {
   "cell_type": "code",
   "execution_count": 5,
   "metadata": {},
   "outputs": [
    {
     "name": "stdout",
     "output_type": "stream",
     "text": [
      "Learned CAV for concept: label\n",
      "\ttensor([0.5918, 0.2309], device='cuda:0')...tensor([-0.4152,  0.1948], device='cuda:0')\n",
      "\tAccuracy: 97.5%\n",
      "\n"
     ]
    }
   ],
   "source": [
    "cav = CAV(MMProbe, DEVICE)\n",
    "cav.fit(label_aspect_df, label_acts, \"label\")\n",
    "\n",
    "save_cav(cav.cav, f\".cache/cavs/{MMProbe.__name__}\", f\"label_{LABEL_LAYER}\")\n",
    "mm_cav = load_cav(f\".cache/cavs/{str(MMProbe.__name__)}\", f\"label_{LABEL_LAYER}\")"
   ]
  },
  {
   "cell_type": "code",
   "execution_count": 6,
   "metadata": {},
   "outputs": [
    {
     "name": "stdout",
     "output_type": "stream",
     "text": [
      "Learned CAV for concept: label\n",
      "\ttensor([0.0179, 0.0054], device='cuda:0')...tensor([-0.0320,  0.0206], device='cuda:0')\n",
      "\tAccuracy: 100.0%\n",
      "\n"
     ]
    }
   ],
   "source": [
    "cav = CAV(LRProbe, DEVICE)\n",
    "cav.fit(label_aspect_df, label_acts, \"label\")\n",
    "\n",
    "save_cav(cav.cav, f\".cache/cavs/{LRProbe.__name__}\", f\"label_{LABEL_LAYER}\")\n",
    "lr_cav = load_cav(f\".cache/cavs/{str(LRProbe.__name__)}\", f\"label_{LABEL_LAYER}\")"
   ]
  },
  {
   "cell_type": "code",
   "execution_count": 7,
   "metadata": {},
   "outputs": [
    {
     "name": "stdout",
     "output_type": "stream",
     "text": [
      "Learned CAV for concept: label\n",
      "\ttensor([0.0319, 0.4636])...tensor([-0.6819, -0.8626])\n",
      "\tAccuracy: 100.0%\n",
      "\n"
     ]
    }
   ],
   "source": [
    "cav = CAV(LDAProbe, DEVICE)\n",
    "cav.fit(label_aspect_df, label_acts, \"label\")\n",
    "\n",
    "save_cav(cav.cav, f\".cache/cavs/{LDAProbe.__name__}\", f\"label_{LABEL_LAYER}\")\n",
    "lda_cav = load_cav(f\".cache/cavs/{str(LDAProbe.__name__)}\", f\"label_{LABEL_LAYER}\")"
   ]
  },
  {
   "cell_type": "code",
   "execution_count": 8,
   "metadata": {},
   "outputs": [
    {
     "name": "stdout",
     "output_type": "stream",
     "text": [
      "Learned CAV for concept: label\n",
      "\ttensor([ 0.0169, -0.0027])...tensor([-0.0223,  0.0049])\n",
      "\tAccuracy: 100.0%\n",
      "\n"
     ]
    }
   ],
   "source": [
    "cav = CAV(SVMProbe, DEVICE)\n",
    "cav.fit(label_aspect_df, label_acts, \"label\")\n",
    "\n",
    "save_cav(cav.cav, f\".cache/cavs/{SVMProbe.__name__}\", f\"label_{LABEL_LAYER}\")\n",
    "svm_cav = load_cav(f\".cache/cavs/{str(SVMProbe.__name__)}\", f\"label_{LABEL_LAYER}\")"
   ]
  },
  {
   "cell_type": "code",
   "execution_count": 9,
   "metadata": {},
   "outputs": [
    {
     "name": "stdout",
     "output_type": "stream",
     "text": [
      "Similarity between MM and LR: tensor(0.5186, device='cuda:0')\n",
      "Similarity between MM and LDA: tensor(0.1962, device='cuda:0')\n",
      "Similarity between LR and LDA: tensor(0.2744, device='cuda:0')\n",
      "Similarity between MM and SVM: tensor(0.8884, device='cuda:0')\n"
     ]
    }
   ],
   "source": [
    "print(\"Similarity between MM and LR:\", t.dot(mm_cav, lr_cav))\n",
    "print(\"Similarity between MM and LDA:\", t.dot(mm_cav, lda_cav))\n",
    "print(\"Similarity between LR and LDA:\", t.dot(lr_cav, lda_cav))\n",
    "print(\"Similarity between MM and SVM:\", t.dot(mm_cav, svm_cav))"
   ]
  },
  {
   "cell_type": "markdown",
   "metadata": {},
   "source": [
    "### Confounding aspect"
   ]
  },
  {
   "cell_type": "code",
   "execution_count": 10,
   "metadata": {},
   "outputs": [],
   "source": [
    "CONFOUNDING_LAYER = 22"
   ]
  },
  {
   "cell_type": "code",
   "execution_count": 11,
   "metadata": {},
   "outputs": [
    {
     "name": "stderr",
     "output_type": "stream",
     "text": [
      "Collecting activations from layer 22: 100%|██████████| 8/8 [00:00<00:00, 691.59it/s]\n"
     ]
    }
   ],
   "source": [
    "confounding_aspect_df = pd.read_csv(f\"{DATASETS_DIR}/confounding_aspect.csv\")\n",
    "confounding_acts = collect_acts(\n",
    "    f\"{DATA_DIR}/activations/{MODEL}/base_experiments/car_vs_bike/train/few_shot_confounding_aspect\",\n",
    "    layer=CONFOUNDING_LAYER,\n",
    "    center=False,\n",
    "    scale=False,\n",
    ")"
   ]
  },
  {
   "cell_type": "code",
   "execution_count": 12,
   "metadata": {},
   "outputs": [
    {
     "name": "stdout",
     "output_type": "stream",
     "text": [
      "Learned CAV for concept: confounding\n",
      "\ttensor([0.8391, 0.0609], device='cuda:0')...tensor([ 0.2534, -0.0467], device='cuda:0')\n",
      "\tAccuracy: 100.0%\n",
      "\n"
     ]
    }
   ],
   "source": [
    "cav = CAV(MMProbe, DEVICE)\n",
    "cav.fit(confounding_aspect_df, confounding_acts, \"confounding\")\n",
    "\n",
    "save_cav(cav.cav, f\".cache/cavs/{MMProbe.__name__}\", f\"confounding_{CONFOUNDING_LAYER}\")\n",
    "mm_cav = load_cav(\n",
    "    f\".cache/cavs/{str(MMProbe.__name__)}\", f\"confounding_{CONFOUNDING_LAYER}\"\n",
    ")"
   ]
  },
  {
   "cell_type": "code",
   "execution_count": 13,
   "metadata": {},
   "outputs": [
    {
     "name": "stdout",
     "output_type": "stream",
     "text": [
      "Learned CAV for concept: confounding\n",
      "\ttensor([0.0020, 0.0177], device='cuda:0')...tensor([-8.0213e-05, -2.3031e-02], device='cuda:0')\n",
      "\tAccuracy: 100.0%\n",
      "\n"
     ]
    }
   ],
   "source": [
    "cav = CAV(LRProbe, DEVICE)\n",
    "cav.fit(confounding_aspect_df, confounding_acts, \"confounding\")\n",
    "\n",
    "save_cav(cav.cav, f\".cache/cavs/{LRProbe.__name__}\", f\"confounding_{CONFOUNDING_LAYER}\")\n",
    "lr_cav = load_cav(\n",
    "    f\".cache/cavs/{str(LRProbe.__name__)}\", f\"confounding_{CONFOUNDING_LAYER}\"\n",
    ")"
   ]
  },
  {
   "cell_type": "code",
   "execution_count": 14,
   "metadata": {},
   "outputs": [
    {
     "name": "stdout",
     "output_type": "stream",
     "text": [
      "Learned CAV for concept: confounding\n",
      "\ttensor([-2.0381, -1.4186])...tensor([ 5.3594, -0.6125])\n",
      "\tAccuracy: 100.0%\n",
      "\n"
     ]
    }
   ],
   "source": [
    "cav = CAV(LDAProbe, DEVICE)\n",
    "cav.fit(confounding_aspect_df, confounding_acts, \"confounding\")\n",
    "\n",
    "save_cav(\n",
    "    cav.cav, f\".cache/cavs/{LDAProbe.__name__}\", f\"confounding_{CONFOUNDING_LAYER}\"\n",
    ")\n",
    "lda_cav = load_cav(\n",
    "    f\".cache/cavs/{str(LDAProbe.__name__)}\", f\"confounding_{CONFOUNDING_LAYER}\"\n",
    ")"
   ]
  },
  {
   "cell_type": "code",
   "execution_count": 15,
   "metadata": {},
   "outputs": [
    {
     "name": "stdout",
     "output_type": "stream",
     "text": [
      "Learned CAV for concept: confounding\n",
      "\ttensor([ 0.0159, -0.0014])...tensor([0.0104, 0.0004])\n",
      "\tAccuracy: 100.0%\n",
      "\n"
     ]
    }
   ],
   "source": [
    "cav = CAV(SVMProbe, DEVICE)\n",
    "cav.fit(confounding_aspect_df, confounding_acts, \"confounding\")\n",
    "\n",
    "save_cav(\n",
    "    cav.cav, f\".cache/cavs/{SVMProbe.__name__}\", f\"confounding_{CONFOUNDING_LAYER}\"\n",
    ")\n",
    "svm_cav = load_cav(\n",
    "    f\".cache/cavs/{str(SVMProbe.__name__)}\", f\"confounding_{CONFOUNDING_LAYER}\"\n",
    ")"
   ]
  },
  {
   "cell_type": "code",
   "execution_count": 16,
   "metadata": {},
   "outputs": [
    {
     "name": "stdout",
     "output_type": "stream",
     "text": [
      "Similarity between MM and LR: tensor(0.6440, device='cuda:0')\n",
      "Similarity between MM and LDA: tensor(0.3615, device='cuda:0')\n",
      "Similarity between LR and LDA: tensor(0.2571, device='cuda:0')\n",
      "Similarity between MM and SVM: tensor(0.9671, device='cuda:0')\n"
     ]
    }
   ],
   "source": [
    "print(\"Similarity between MM and LR:\", t.dot(mm_cav, lr_cav))\n",
    "print(\"Similarity between MM and LDA:\", t.dot(mm_cav, lda_cav))\n",
    "print(\"Similarity between LR and LDA:\", t.dot(lr_cav, lda_cav))\n",
    "print(\"Similarity between MM and SVM:\", t.dot(mm_cav, svm_cav))"
   ]
  },
  {
   "cell_type": "code",
   "execution_count": null,
   "metadata": {},
   "outputs": [],
   "source": []
  },
  {
   "cell_type": "code",
   "execution_count": null,
   "metadata": {},
   "outputs": [],
   "source": []
  }
 ],
 "metadata": {
  "kernelspec": {
   "display_name": ".venv",
   "language": "python",
   "name": "python3"
  },
  "language_info": {
   "codemirror_mode": {
    "name": "ipython",
    "version": 3
   },
   "file_extension": ".py",
   "mimetype": "text/x-python",
   "name": "python",
   "nbconvert_exporter": "python",
   "pygments_lexer": "ipython3",
   "version": "3.10.13"
  }
 },
 "nbformat": 4,
 "nbformat_minor": 2
}
