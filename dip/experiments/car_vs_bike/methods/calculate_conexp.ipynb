{
 "cells": [
  {
   "cell_type": "code",
   "execution_count": 1,
   "metadata": {},
   "outputs": [],
   "source": [
    "import pandas as pd\n",
    "\n",
    "from master_thesis.core.utils.reproducibility import seed_everything\n",
    "from master_thesis.core.models.llama import load_model_and_tokenizer\n",
    "from master_thesis.core.utils.prompts import load_prompt\n",
    "from master_thesis.core.methods.conexp import CONEXPEstimator\n",
    "from master_thesis.core.utils.reproducibility import save_results\n",
    "\n",
    "\n",
    "DEVICE = \"cuda\"\n",
    "PROMPT_TYPE = \"few_shot\"\n",
    "POSITIVE_TOKEN = \"true\"\n",
    "NEGATIVE_TOKEN = \"false\"\n",
    "MODEL = \"LLAMA_2_7B_CHAT\"\n",
    "\n",
    "DATA_DIR = \"../../../../data\"\n",
    "DATASETS_DIR = f\"{DATA_DIR}/datasets/base_experiments/car_vs_bike/test\"\n",
    "CACHE_DIR = f\".cache/results\"\n",
    "CLASS_NAMES = [\"bike\", \"car\"]\n",
    "LABEL_ASCPECT_NAMES = [\"bike\", \"car\"]\n",
    "CONFOUNDING_ASPECT_NAMES = [\"negative\", \"positive\"]"
   ]
  },
  {
   "cell_type": "code",
   "execution_count": 2,
   "metadata": {},
   "outputs": [],
   "source": [
    "seed_everything()"
   ]
  },
  {
   "cell_type": "code",
   "execution_count": 3,
   "metadata": {},
   "outputs": [
    {
     "name": "stderr",
     "output_type": "stream",
     "text": [
      "/home/mateusz_politycki/master-thesis-probing/.venv/lib/python3.10/site-packages/transformers/models/auto/tokenization_auto.py:732: FutureWarning: The `use_auth_token` argument is deprecated and will be removed in v5 of Transformers. Please use `token` instead.\n",
      "  warnings.warn(\n",
      "/home/mateusz_politycki/master-thesis-probing/.venv/lib/python3.10/site-packages/transformers/models/auto/auto_factory.py:468: FutureWarning: The `use_auth_token` argument is deprecated and will be removed in v5 of Transformers. Please use `token` instead.\n",
      "  warnings.warn(\n",
      "The `load_in_4bit` and `load_in_8bit` arguments are deprecated and will be removed in the future versions. Please, pass a `BitsAndBytesConfig` object in `quantization_config` argument instead.\n",
      "`low_cpu_mem_usage` was None, now set to True since model is quantized.\n"
     ]
    },
    {
     "data": {
      "application/vnd.jupyter.widget-view+json": {
       "model_id": "25cdd258966b421892392b0e763158fb",
       "version_major": 2,
       "version_minor": 0
      },
      "text/plain": [
       "Loading checkpoint shards:   0%|          | 0/2 [00:00<?, ?it/s]"
      ]
     },
     "metadata": {},
     "output_type": "display_data"
    }
   ],
   "source": [
    "model, tokenizer = load_model_and_tokenizer(MODEL)"
   ]
  },
  {
   "cell_type": "code",
   "execution_count": 4,
   "metadata": {},
   "outputs": [],
   "source": [
    "TOKENS = [tokenizer.encode(NEGATIVE_TOKEN)[-1], tokenizer.encode(POSITIVE_TOKEN)[-1]]"
   ]
  },
  {
   "cell_type": "markdown",
   "metadata": {},
   "source": [
    "### Prepare datasets and prompt"
   ]
  },
  {
   "cell_type": "code",
   "execution_count": 5,
   "metadata": {},
   "outputs": [],
   "source": [
    "test = pd.read_csv(f\"{DATASETS_DIR}/test.csv\")\n",
    "test_50_50 = pd.read_csv(f\"{DATASETS_DIR}/test_50_50.csv\")\n",
    "test_95_5 = pd.read_csv(f\"{DATASETS_DIR}/test_95_5.csv\")"
   ]
  },
  {
   "cell_type": "code",
   "execution_count": 6,
   "metadata": {},
   "outputs": [],
   "source": [
    "prompt = load_prompt(\n",
    "    DATA_DIR,\n",
    "    dataset_path=\"base_experiments/car_vs_bike\",\n",
    "    prompt_type=PROMPT_TYPE,\n",
    "    prompt_aspect=\"label_aspect\",\n",
    ")"
   ]
  },
  {
   "cell_type": "markdown",
   "metadata": {},
   "source": [
    "### Estimate CONEXP"
   ]
  },
  {
   "cell_type": "code",
   "execution_count": 7,
   "metadata": {},
   "outputs": [],
   "source": [
    "conexp_etimator = CONEXPEstimator(model, tokenizer, prompt, TOKENS, DEVICE)"
   ]
  },
  {
   "cell_type": "markdown",
   "metadata": {},
   "source": [
    "#### Test 50 50"
   ]
  },
  {
   "cell_type": "code",
   "execution_count": 8,
   "metadata": {},
   "outputs": [
    {
     "name": "stderr",
     "output_type": "stream",
     "text": [
      "100%|██████████| 200/200 [01:24<00:00,  2.35it/s]\n"
     ]
    }
   ],
   "source": [
    "test_50_50_results_label = conexp_etimator.evaluate(test_50_50, \"label\")"
   ]
  },
  {
   "cell_type": "code",
   "execution_count": 9,
   "metadata": {},
   "outputs": [],
   "source": [
    "save_results(\n",
    "    test_50_50_results_label,\n",
    "    class_names=CLASS_NAMES,\n",
    "    aspect_names=LABEL_ASCPECT_NAMES,\n",
    "    save_path=f\"{CACHE_DIR}/conexp/test_50_50/label_aspect.json\",\n",
    ")"
   ]
  },
  {
   "cell_type": "code",
   "execution_count": 10,
   "metadata": {},
   "outputs": [
    {
     "data": {
      "text/plain": [
       "{0: {0: 0.8947252532128275, 1: 0.8949891483183455},\n",
       " 1: {0: 0.8947252532128275, 1: 0.8949891483183455}}"
      ]
     },
     "execution_count": 10,
     "metadata": {},
     "output_type": "execute_result"
    }
   ],
   "source": [
    "test_50_50_results_label"
   ]
  },
  {
   "cell_type": "code",
   "execution_count": 11,
   "metadata": {},
   "outputs": [
    {
     "name": "stderr",
     "output_type": "stream",
     "text": [
      "100%|██████████| 200/200 [01:22<00:00,  2.43it/s]\n"
     ]
    }
   ],
   "source": [
    "test_50_50_results_confounding = conexp_etimator.evaluate(test_50_50, \"confounding\")"
   ]
  },
  {
   "cell_type": "code",
   "execution_count": 12,
   "metadata": {},
   "outputs": [],
   "source": [
    "save_results(\n",
    "    test_50_50_results_confounding,\n",
    "    class_names=CLASS_NAMES,\n",
    "    aspect_names=CONFOUNDING_ASPECT_NAMES,\n",
    "    save_path=f\"{CACHE_DIR}/conexp/test_50_50/confounding_aspect.json\",\n",
    ")"
   ]
  },
  {
   "cell_type": "code",
   "execution_count": 13,
   "metadata": {},
   "outputs": [
    {
     "data": {
      "text/plain": [
       "{0: {0: 0.09424936545050933, 1: 0.09421040649474888},\n",
       " 1: {0: 0.09424936545050933, 1: 0.09421040649474888}}"
      ]
     },
     "execution_count": 13,
     "metadata": {},
     "output_type": "execute_result"
    }
   ],
   "source": [
    "test_50_50_results_confounding"
   ]
  },
  {
   "cell_type": "markdown",
   "metadata": {},
   "source": [
    "#### Test 95 5"
   ]
  },
  {
   "cell_type": "code",
   "execution_count": 14,
   "metadata": {},
   "outputs": [
    {
     "name": "stderr",
     "output_type": "stream",
     "text": [
      "100%|██████████| 200/200 [01:22<00:00,  2.43it/s]\n"
     ]
    }
   ],
   "source": [
    "test_95_5_results_label = conexp_etimator.evaluate(test_95_5, \"label\")"
   ]
  },
  {
   "cell_type": "code",
   "execution_count": 15,
   "metadata": {},
   "outputs": [],
   "source": [
    "save_results(\n",
    "    test_95_5_results_label,\n",
    "    class_names=CLASS_NAMES,\n",
    "    aspect_names=LABEL_ASCPECT_NAMES,\n",
    "    save_path=f\"{CACHE_DIR}/conexp/test_95_5/label_aspect.json\",\n",
    ")"
   ]
  },
  {
   "cell_type": "code",
   "execution_count": 16,
   "metadata": {},
   "outputs": [
    {
     "data": {
      "text/plain": [
       "{0: {0: 0.9805910286328262, 1: 0.9808196394790866},\n",
       " 1: {0: 0.9805910286328262, 1: 0.9808196394790866}}"
      ]
     },
     "execution_count": 16,
     "metadata": {},
     "output_type": "execute_result"
    }
   ],
   "source": [
    "test_95_5_results_label"
   ]
  },
  {
   "cell_type": "code",
   "execution_count": 17,
   "metadata": {},
   "outputs": [
    {
     "name": "stderr",
     "output_type": "stream",
     "text": [
      "100%|██████████| 200/200 [01:22<00:00,  2.43it/s]\n"
     ]
    }
   ],
   "source": [
    "test_95_5_results_confounding = conexp_etimator.evaluate(test_95_5, \"confounding\")"
   ]
  },
  {
   "cell_type": "code",
   "execution_count": 18,
   "metadata": {},
   "outputs": [],
   "source": [
    "save_results(\n",
    "    test_95_5_results_confounding,\n",
    "    class_names=CLASS_NAMES,\n",
    "    aspect_names=CONFOUNDING_ASPECT_NAMES,\n",
    "    save_path=f\"{CACHE_DIR}/conexp/test_95_5/confounding_aspect.json\",\n",
    ")"
   ]
  },
  {
   "cell_type": "code",
   "execution_count": 19,
   "metadata": {},
   "outputs": [
    {
     "data": {
      "text/plain": [
       "{0: {0: 0.8807594169409876, 1: 0.8809526716373511},\n",
       " 1: {0: 0.8807594169409876, 1: 0.8809526716373511}}"
      ]
     },
     "execution_count": 19,
     "metadata": {},
     "output_type": "execute_result"
    }
   ],
   "source": [
    "test_95_5_results_confounding"
   ]
  },
  {
   "cell_type": "code",
   "execution_count": null,
   "metadata": {},
   "outputs": [],
   "source": []
  },
  {
   "cell_type": "code",
   "execution_count": null,
   "metadata": {},
   "outputs": [],
   "source": []
  },
  {
   "cell_type": "code",
   "execution_count": null,
   "metadata": {},
   "outputs": [],
   "source": []
  }
 ],
 "metadata": {
  "kernelspec": {
   "display_name": ".venv",
   "language": "python",
   "name": "python3"
  },
  "language_info": {
   "codemirror_mode": {
    "name": "ipython",
    "version": 3
   },
   "file_extension": ".py",
   "mimetype": "text/x-python",
   "name": "python",
   "nbconvert_exporter": "python",
   "pygments_lexer": "ipython3",
   "version": "3.10.13"
  }
 },
 "nbformat": 4,
 "nbformat_minor": 2
}
