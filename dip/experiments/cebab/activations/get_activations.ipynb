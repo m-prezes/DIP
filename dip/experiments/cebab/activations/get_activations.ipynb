{
 "cells": [
  {
   "cell_type": "code",
   "execution_count": 1,
   "metadata": {},
   "outputs": [],
   "source": [
    "import pandas as pd\n",
    "from pathlib import Path\n",
    "from tqdm import tqdm\n",
    "import torch as t\n",
    "\n",
    "from master_thesis.core.utils.reproducibility import seed_everything, load_checkpoint\n",
    "from master_thesis.core.models.llama import load_model_and_tokenizer\n",
    "from master_thesis.core.utils.prompts import load_prompt\n",
    "from master_thesis.core.activations.collector import ActivationCollector\n",
    "\n",
    "seed_everything()"
   ]
  },
  {
   "cell_type": "code",
   "execution_count": 2,
   "metadata": {},
   "outputs": [],
   "source": [
    "MODEL = \"LLAMA_2_7B_CHAT\"\n",
    "DATA_DIR = f\"../../../../data\"\n",
    "DATASETS_DIR = f\"{DATA_DIR}/datasets/base_experiments/cebab\"\n",
    "ACTIVATIONS_DIR = f\"{DATA_DIR}/activations/{MODEL}/base_experiments/cebab\"\n",
    "PROMPT_TYPE = \"few_shot\"\n",
    "DEVICE = \"cuda\""
   ]
  },
  {
   "cell_type": "code",
   "execution_count": 3,
   "metadata": {},
   "outputs": [
    {
     "name": "stderr",
     "output_type": "stream",
     "text": [
      "/home/mateusz_politycki/master-thesis-probing/.venv/lib/python3.10/site-packages/transformers/models/auto/tokenization_auto.py:732: FutureWarning: The `use_auth_token` argument is deprecated and will be removed in v5 of Transformers. Please use `token` instead.\n",
      "  warnings.warn(\n",
      "/home/mateusz_politycki/master-thesis-probing/.venv/lib/python3.10/site-packages/transformers/models/auto/auto_factory.py:468: FutureWarning: The `use_auth_token` argument is deprecated and will be removed in v5 of Transformers. Please use `token` instead.\n",
      "  warnings.warn(\n",
      "The `load_in_4bit` and `load_in_8bit` arguments are deprecated and will be removed in the future versions. Please, pass a `BitsAndBytesConfig` object in `quantization_config` argument instead.\n",
      "`low_cpu_mem_usage` was None, now set to True since model is quantized.\n"
     ]
    },
    {
     "data": {
      "application/vnd.jupyter.widget-view+json": {
       "model_id": "50b6997169344f81b7dc3b8fc9386870",
       "version_major": 2,
       "version_minor": 0
      },
      "text/plain": [
       "Loading checkpoint shards:   0%|          | 0/2 [00:00<?, ?it/s]"
      ]
     },
     "metadata": {},
     "output_type": "display_data"
    }
   ],
   "source": [
    "model, tokenizer = load_model_and_tokenizer(MODEL)"
   ]
  },
  {
   "cell_type": "code",
   "execution_count": 5,
   "metadata": {},
   "outputs": [],
   "source": [
    "layers = list(range(len(model.model.layers)))"
   ]
  },
  {
   "cell_type": "code",
   "execution_count": 6,
   "metadata": {},
   "outputs": [],
   "source": [
    "activation_collector = ActivationCollector(model, tokenizer, layers, DEVICE)"
   ]
  },
  {
   "cell_type": "markdown",
   "metadata": {},
   "source": [
    "### Train - food aspect"
   ]
  },
  {
   "cell_type": "code",
   "execution_count": 10,
   "metadata": {},
   "outputs": [],
   "source": [
    "food_prompt = load_prompt(\n",
    "    DATA_DIR,\n",
    "    dataset_path=\"base_experiments/cebab\",\n",
    "    prompt_type=PROMPT_TYPE,\n",
    "    prompt_aspect=\"food_aspect\",\n",
    ")"
   ]
  },
  {
   "cell_type": "code",
   "execution_count": 11,
   "metadata": {},
   "outputs": [
    {
     "name": "stderr",
     "output_type": "stream",
     "text": [
      "100%|██████████| 8/8 [01:25<00:00, 10.70s/it]\n"
     ]
    }
   ],
   "source": [
    "seed_everything()\n",
    "\n",
    "dataset = pd.read_csv(f\"{DATASETS_DIR}/train/food_aspect.csv\")\n",
    "statements = dataset[\"sentence\"].tolist()\n",
    "\n",
    "\n",
    "save_dir = f\"{ACTIVATIONS_DIR}/train/{PROMPT_TYPE}_food_aspect\"\n",
    "Path(save_dir).mkdir(parents=True, exist_ok=True)\n",
    "\n",
    "checkpoint = load_checkpoint(save_dir)\n",
    "\n",
    "for idx in tqdm(range(checkpoint, len(statements), 25)):\n",
    "    acts, answers = activation_collector.get_acts(\n",
    "        statements[idx : idx + 25], food_prompt\n",
    "    )\n",
    "    for layer, act in acts.items():\n",
    "        t.save(act, f\"{save_dir}/layer_{layer}_{idx}.pt\")\n",
    "    answers_df = pd.DataFrame({\"answer\": answers})\n",
    "    answers_df.to_csv(f\"{save_dir}/answers_{idx}.csv\")"
   ]
  },
  {
   "cell_type": "markdown",
   "metadata": {},
   "source": [
    "### Train - ambiance aspect"
   ]
  },
  {
   "cell_type": "code",
   "execution_count": 12,
   "metadata": {},
   "outputs": [],
   "source": [
    "ambiance_prompt = load_prompt(\n",
    "    DATA_DIR,\n",
    "    dataset_path=\"base_experiments/cebab\",\n",
    "    prompt_type=PROMPT_TYPE,\n",
    "    prompt_aspect=\"ambiance_aspect\",\n",
    ")"
   ]
  },
  {
   "cell_type": "code",
   "execution_count": 13,
   "metadata": {},
   "outputs": [
    {
     "name": "stderr",
     "output_type": "stream",
     "text": [
      "100%|██████████| 8/8 [01:24<00:00, 10.60s/it]\n"
     ]
    }
   ],
   "source": [
    "seed_everything()\n",
    "\n",
    "dataset = pd.read_csv(f\"{DATASETS_DIR}/train/ambiance_aspect.csv\")\n",
    "statements = dataset[\"sentence\"].tolist()\n",
    "\n",
    "\n",
    "save_dir = f\"{ACTIVATIONS_DIR}/train/{PROMPT_TYPE}_ambiance_aspect\"\n",
    "Path(save_dir).mkdir(parents=True, exist_ok=True)\n",
    "\n",
    "checkpoint = load_checkpoint(save_dir)\n",
    "\n",
    "for idx in tqdm(range(checkpoint, len(statements), 25)):\n",
    "    acts, answers = activation_collector.get_acts(\n",
    "        statements[idx : idx + 25], ambiance_prompt\n",
    "    )\n",
    "    for layer, act in acts.items():\n",
    "        t.save(act, f\"{save_dir}/layer_{layer}_{idx}.pt\")\n",
    "    answers_df = pd.DataFrame({\"answer\": answers})\n",
    "    answers_df.to_csv(f\"{save_dir}/answers_{idx}.csv\")"
   ]
  },
  {
   "cell_type": "markdown",
   "metadata": {},
   "source": [
    "### Train - service aspect"
   ]
  },
  {
   "cell_type": "code",
   "execution_count": 15,
   "metadata": {},
   "outputs": [],
   "source": [
    "service_prompt = load_prompt(\n",
    "    DATA_DIR,\n",
    "    dataset_path=\"base_experiments/cebab\",\n",
    "    prompt_type=PROMPT_TYPE,\n",
    "    prompt_aspect=\"service_aspect\",\n",
    ")"
   ]
  },
  {
   "cell_type": "code",
   "execution_count": 16,
   "metadata": {},
   "outputs": [
    {
     "name": "stderr",
     "output_type": "stream",
     "text": [
      "100%|██████████| 8/8 [01:24<00:00, 10.51s/it]\n"
     ]
    }
   ],
   "source": [
    "seed_everything()\n",
    "\n",
    "dataset = pd.read_csv(f\"{DATASETS_DIR}/train/service_aspect.csv\")\n",
    "statements = dataset[\"sentence\"].tolist()\n",
    "\n",
    "\n",
    "save_dir = f\"{ACTIVATIONS_DIR}/train/{PROMPT_TYPE}_service_aspect\"\n",
    "Path(save_dir).mkdir(parents=True, exist_ok=True)\n",
    "\n",
    "checkpoint = load_checkpoint(save_dir)\n",
    "\n",
    "for idx in tqdm(range(checkpoint, len(statements), 25)):\n",
    "    acts, answers = activation_collector.get_acts(\n",
    "        statements[idx : idx + 25], service_prompt\n",
    "    )\n",
    "    for layer, act in acts.items():\n",
    "        t.save(act, f\"{save_dir}/layer_{layer}_{idx}.pt\")\n",
    "    answers_df = pd.DataFrame({\"answer\": answers})\n",
    "    answers_df.to_csv(f\"{save_dir}/answers_{idx}.csv\")"
   ]
  },
  {
   "cell_type": "markdown",
   "metadata": {},
   "source": [
    "### Train - noise aspect"
   ]
  },
  {
   "cell_type": "code",
   "execution_count": 17,
   "metadata": {},
   "outputs": [],
   "source": [
    "noise_prompt = load_prompt(\n",
    "    DATA_DIR,\n",
    "    dataset_path=\"base_experiments/cebab\",\n",
    "    prompt_type=PROMPT_TYPE,\n",
    "    prompt_aspect=\"noise_aspect\",\n",
    ")"
   ]
  },
  {
   "cell_type": "code",
   "execution_count": 18,
   "metadata": {},
   "outputs": [
    {
     "name": "stderr",
     "output_type": "stream",
     "text": [
      "100%|██████████| 8/8 [01:23<00:00, 10.44s/it]\n"
     ]
    }
   ],
   "source": [
    "seed_everything()\n",
    "\n",
    "dataset = pd.read_csv(f\"{DATASETS_DIR}/train/noise_aspect.csv\")\n",
    "statements = dataset[\"sentence\"].tolist()\n",
    "\n",
    "\n",
    "save_dir = f\"{ACTIVATIONS_DIR}/train/{PROMPT_TYPE}_noise_aspect\"\n",
    "Path(save_dir).mkdir(parents=True, exist_ok=True)\n",
    "\n",
    "checkpoint = load_checkpoint(save_dir)\n",
    "\n",
    "for idx in tqdm(range(checkpoint, len(statements), 25)):\n",
    "    acts, answers = activation_collector.get_acts(\n",
    "        statements[idx : idx + 25], noise_prompt\n",
    "    )\n",
    "    for layer, act in acts.items():\n",
    "        t.save(act, f\"{save_dir}/layer_{layer}_{idx}.pt\")\n",
    "    answers_df = pd.DataFrame({\"answer\": answers})\n",
    "    answers_df.to_csv(f\"{save_dir}/answers_{idx}.csv\")"
   ]
  },
  {
   "cell_type": "code",
   "execution_count": null,
   "metadata": {},
   "outputs": [],
   "source": []
  }
 ],
 "metadata": {
  "kernelspec": {
   "display_name": ".venv",
   "language": "python",
   "name": "python3"
  },
  "language_info": {
   "codemirror_mode": {
    "name": "ipython",
    "version": 3
   },
   "file_extension": ".py",
   "mimetype": "text/x-python",
   "name": "python",
   "nbconvert_exporter": "python",
   "pygments_lexer": "ipython3",
   "version": "3.10.13"
  }
 },
 "nbformat": 4,
 "nbformat_minor": 2
}
