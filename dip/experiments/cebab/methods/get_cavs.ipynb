{
 "cells": [
  {
   "cell_type": "code",
   "execution_count": 8,
   "metadata": {},
   "outputs": [],
   "source": [
    "import pandas as pd\n",
    "import torch as t\n",
    "\n",
    "from master_thesis.core.utils.reproducibility import seed_everything\n",
    "from master_thesis.core.probes import (\n",
    "    CAV,\n",
    "    MMProbe,\n",
    "    LRProbe,\n",
    "    LDAProbe,\n",
    "    SVMProbe,\n",
    "    save_cav,\n",
    "    load_cav,\n",
    ")\n",
    "from master_thesis.core.activations.store import collect_acts\n",
    "\n",
    "\n",
    "DEVICE = \"cuda\"\n",
    "PROMPT_TYPE = \"few_shot\"\n",
    "POSITIVE_TOKEN = \"true\"\n",
    "NEGATIVE_TOKEN = \"false\"\n",
    "MODEL = \"LLAMA_2_7B_CHAT\"\n",
    "\n",
    "DATA_DIR = \"../../../../data\"\n",
    "DATASETS_DIR = f\"{DATA_DIR}/datasets/base_experiments/cebab/train\""
   ]
  },
  {
   "cell_type": "code",
   "execution_count": 9,
   "metadata": {},
   "outputs": [],
   "source": [
    "seed_everything()"
   ]
  },
  {
   "cell_type": "markdown",
   "metadata": {},
   "source": [
    "### Aspects"
   ]
  },
  {
   "cell_type": "code",
   "execution_count": 10,
   "metadata": {},
   "outputs": [],
   "source": [
    "CONFIGS = {\n",
    "    LRProbe: {\n",
    "        \"food\": 5,\n",
    "        \"ambiance\": 11,\n",
    "        \"service\": 7,\n",
    "        \"noise\": 7,\n",
    "    },\n",
    "    LDAProbe: {\n",
    "        \"food\": 14,\n",
    "        \"ambiance\": 17,\n",
    "        \"service\": 14,\n",
    "        \"noise\": 19,\n",
    "    },\n",
    "    MMProbe: {\n",
    "        \"food\": 14,\n",
    "        \"ambiance\": 26,\n",
    "        \"service\": 14,\n",
    "        \"noise\": 14,\n",
    "    },\n",
    "    SVMProbe: {\n",
    "        \"food\": 14,\n",
    "        \"ambiance\": 29,\n",
    "        \"service\": 16,\n",
    "        \"noise\": 18,\n",
    "    },\n",
    "}"
   ]
  },
  {
   "cell_type": "code",
   "execution_count": 6,
   "metadata": {},
   "outputs": [],
   "source": [
    "CONFIGS = {\n",
    "    LRProbe: {\n",
    "        \"food\": 22,\n",
    "        \"ambiance\": 22,\n",
    "        \"service\": 22,\n",
    "        \"noise\": 16,\n",
    "    },\n",
    "    LDAProbe: {\n",
    "        \"food\": 22,\n",
    "        \"ambiance\": 22,\n",
    "        \"service\": 22,\n",
    "        \"noise\": 16,\n",
    "    },\n",
    "    MMProbe: {\n",
    "        \"food\": 22,\n",
    "        \"ambiance\": 22,\n",
    "        \"service\": 22,\n",
    "        \"noise\": 16,\n",
    "    },\n",
    "    SVMProbe: {\n",
    "        \"food\": 22,\n",
    "        \"ambiance\": 22,\n",
    "        \"service\": 22,\n",
    "        \"noise\": 16,\n",
    "    },\n",
    "}"
   ]
  },
  {
   "cell_type": "code",
   "execution_count": 11,
   "metadata": {},
   "outputs": [
    {
     "name": "stderr",
     "output_type": "stream",
     "text": [
      "Collecting activations from layer 5: 100%|██████████| 8/8 [00:00<00:00, 1048.84it/s]\n"
     ]
    },
    {
     "name": "stdout",
     "output_type": "stream",
     "text": [
      "Learned CAV for concept: food\n",
      "\ttensor([-0.4416, -0.1286], device='cuda:0')...tensor([ 0.6451, -0.2157], device='cuda:0')\n",
      "\tAccuracy: 99.5%\n",
      "\n"
     ]
    },
    {
     "name": "stderr",
     "output_type": "stream",
     "text": [
      "Collecting activations from layer 11: 100%|██████████| 8/8 [00:00<00:00, 1077.92it/s]\n"
     ]
    },
    {
     "name": "stdout",
     "output_type": "stream",
     "text": [
      "Learned CAV for concept: ambiance\n",
      "\ttensor([0.2089, 0.4595], device='cuda:0')...tensor([0.1462, 0.2073], device='cuda:0')\n",
      "\tAccuracy: 100.0%\n",
      "\n"
     ]
    },
    {
     "name": "stderr",
     "output_type": "stream",
     "text": [
      "Collecting activations from layer 7: 100%|██████████| 8/8 [00:00<00:00, 1083.73it/s]\n"
     ]
    },
    {
     "name": "stdout",
     "output_type": "stream",
     "text": [
      "Learned CAV for concept: service\n",
      "\ttensor([ 0.7790, -0.4575], device='cuda:0')...tensor([-0.1603,  0.1431], device='cuda:0')\n",
      "\tAccuracy: 99.0%\n",
      "\n"
     ]
    },
    {
     "name": "stderr",
     "output_type": "stream",
     "text": [
      "Collecting activations from layer 7: 100%|██████████| 8/8 [00:00<00:00, 1102.57it/s]\n"
     ]
    },
    {
     "name": "stdout",
     "output_type": "stream",
     "text": [
      "Learned CAV for concept: noise\n",
      "\ttensor([-0.6635,  0.6634], device='cuda:0')...tensor([-0.7068, -0.4436], device='cuda:0')\n",
      "\tAccuracy: 100.0%\n",
      "\n"
     ]
    },
    {
     "name": "stderr",
     "output_type": "stream",
     "text": [
      "Collecting activations from layer 14: 100%|██████████| 8/8 [00:00<00:00, 1143.76it/s]\n"
     ]
    },
    {
     "name": "stdout",
     "output_type": "stream",
     "text": [
      "Learned CAV for concept: food\n",
      "\ttensor([0.6138, 0.2730])...tensor([0.0174, 0.4396])\n",
      "\tAccuracy: 98.5%\n",
      "\n"
     ]
    },
    {
     "name": "stderr",
     "output_type": "stream",
     "text": [
      "Collecting activations from layer 17: 100%|██████████| 8/8 [00:00<00:00, 348.70it/s]\n"
     ]
    },
    {
     "name": "stdout",
     "output_type": "stream",
     "text": [
      "Learned CAV for concept: ambiance\n",
      "\ttensor([-0.2012, -0.1309])...tensor([ 0.3326, -0.0201])\n",
      "\tAccuracy: 98.5%\n",
      "\n"
     ]
    },
    {
     "name": "stderr",
     "output_type": "stream",
     "text": [
      "Collecting activations from layer 14: 100%|██████████| 8/8 [00:00<00:00, 80.96it/s]\n"
     ]
    },
    {
     "name": "stdout",
     "output_type": "stream",
     "text": [
      "Learned CAV for concept: service\n",
      "\ttensor([-0.0022,  0.2476])...tensor([ 0.0464, -0.1082])\n",
      "\tAccuracy: 98.0%\n",
      "\n"
     ]
    },
    {
     "name": "stderr",
     "output_type": "stream",
     "text": [
      "Collecting activations from layer 19: 100%|██████████| 8/8 [00:00<00:00, 339.02it/s]\n"
     ]
    },
    {
     "name": "stdout",
     "output_type": "stream",
     "text": [
      "Learned CAV for concept: noise\n",
      "\ttensor([0.0078, 0.0723])...tensor([0.1587, 0.6234])\n",
      "\tAccuracy: 98.5%\n",
      "\n"
     ]
    },
    {
     "name": "stderr",
     "output_type": "stream",
     "text": [
      "Collecting activations from layer 14: 100%|██████████| 8/8 [00:00<00:00, 77.51it/s]\n"
     ]
    },
    {
     "name": "stdout",
     "output_type": "stream",
     "text": [
      "Learned CAV for concept: food\n",
      "\ttensor([0.0901, 0.2081], device='cuda:0')...tensor([-0.1184,  0.2527], device='cuda:0')\n",
      "\tAccuracy: 94.0%\n",
      "\n"
     ]
    },
    {
     "name": "stderr",
     "output_type": "stream",
     "text": [
      "Collecting activations from layer 26: 100%|██████████| 8/8 [00:00<00:00, 752.58it/s]\n"
     ]
    },
    {
     "name": "stdout",
     "output_type": "stream",
     "text": [
      "Learned CAV for concept: ambiance\n",
      "\ttensor([ 0.7879, -0.2162], device='cuda:0')...tensor([0.3817, 0.2965], device='cuda:0')\n",
      "\tAccuracy: 85.5%\n",
      "\n"
     ]
    },
    {
     "name": "stderr",
     "output_type": "stream",
     "text": [
      "Collecting activations from layer 14: 100%|██████████| 8/8 [00:00<00:00, 1122.94it/s]\n"
     ]
    },
    {
     "name": "stdout",
     "output_type": "stream",
     "text": [
      "Learned CAV for concept: service\n",
      "\ttensor([0.0839, 0.1667], device='cuda:0')...tensor([-0.1263,  0.1593], device='cuda:0')\n",
      "\tAccuracy: 90.0%\n",
      "\n"
     ]
    },
    {
     "name": "stderr",
     "output_type": "stream",
     "text": [
      "Collecting activations from layer 14: 100%|██████████| 8/8 [00:00<00:00, 1057.07it/s]\n"
     ]
    },
    {
     "name": "stdout",
     "output_type": "stream",
     "text": [
      "Learned CAV for concept: noise\n",
      "\ttensor([ 0.0021, -0.0094], device='cuda:0')...tensor([ 0.0500, -0.0036], device='cuda:0')\n",
      "\tAccuracy: 93.0%\n",
      "\n"
     ]
    },
    {
     "name": "stderr",
     "output_type": "stream",
     "text": [
      "Collecting activations from layer 14: 100%|██████████| 8/8 [00:00<00:00, 1112.51it/s]\n"
     ]
    },
    {
     "name": "stdout",
     "output_type": "stream",
     "text": [
      "Learned CAV for concept: food\n",
      "\ttensor([0.0229, 0.0280])...tensor([-0.0248,  0.0008])\n",
      "\tAccuracy: 100.0%\n",
      "\n"
     ]
    },
    {
     "name": "stderr",
     "output_type": "stream",
     "text": [
      "Collecting activations from layer 29: 100%|██████████| 8/8 [00:00<00:00, 307.04it/s]\n"
     ]
    },
    {
     "name": "stdout",
     "output_type": "stream",
     "text": [
      "Learned CAV for concept: ambiance\n",
      "\ttensor([ 0.0079, -0.0192])...tensor([-0.0208, -0.0095])\n",
      "\tAccuracy: 98.0%\n",
      "\n"
     ]
    },
    {
     "name": "stderr",
     "output_type": "stream",
     "text": [
      "Collecting activations from layer 16: 100%|██████████| 8/8 [00:00<00:00, 384.34it/s]\n"
     ]
    },
    {
     "name": "stdout",
     "output_type": "stream",
     "text": [
      "Learned CAV for concept: service\n",
      "\ttensor([ 0.0026, -0.0125])...tensor([-0.0070, -0.0481])\n",
      "\tAccuracy: 100.0%\n",
      "\n"
     ]
    },
    {
     "name": "stderr",
     "output_type": "stream",
     "text": [
      "Collecting activations from layer 18: 100%|██████████| 8/8 [00:00<00:00, 448.80it/s]\n"
     ]
    },
    {
     "name": "stdout",
     "output_type": "stream",
     "text": [
      "Learned CAV for concept: noise\n",
      "\ttensor([0.0102, 0.0217])...tensor([-0.0082,  0.0080])\n",
      "\tAccuracy: 99.5%\n",
      "\n"
     ]
    }
   ],
   "source": [
    "for probe, aspects in CONFIGS.items():\n",
    "    for aspect, layer in aspects.items():\n",
    "        aspect_df = pd.read_csv(f\"{DATASETS_DIR}/{aspect}_aspect.csv\")\n",
    "        acts = collect_acts(\n",
    "            f\"{DATA_DIR}/activations/{MODEL}/base_experiments/cebab/train/few_shot_{aspect}_aspect\",\n",
    "            layer=layer,\n",
    "            center=False,\n",
    "            scale=False,\n",
    "        )\n",
    "        cav = CAV(probe, DEVICE)\n",
    "        cav.fit(aspect_df, acts, aspect)\n",
    "\n",
    "        save_cav(cav.cav, f\".cache/cavs/{probe.__name__}\", f\"{aspect}_{layer}\")"
   ]
  },
  {
   "cell_type": "code",
   "execution_count": null,
   "metadata": {},
   "outputs": [],
   "source": []
  }
 ],
 "metadata": {
  "kernelspec": {
   "display_name": ".venv",
   "language": "python",
   "name": "python3"
  },
  "language_info": {
   "codemirror_mode": {
    "name": "ipython",
    "version": 3
   },
   "file_extension": ".py",
   "mimetype": "text/x-python",
   "name": "python",
   "nbconvert_exporter": "python",
   "pygments_lexer": "ipython3",
   "version": "3.10.13"
  }
 },
 "nbformat": 4,
 "nbformat_minor": 2
}
